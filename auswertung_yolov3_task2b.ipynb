{
 "metadata": {
  "language_info": {
   "codemirror_mode": {
    "name": "ipython",
    "version": 3
   },
   "file_extension": ".py",
   "mimetype": "text/x-python",
   "name": "python",
   "nbconvert_exporter": "python",
   "pygments_lexer": "ipython3",
   "version": "3.8.10"
  },
  "orig_nbformat": 4,
  "kernelspec": {
   "name": "python3",
   "display_name": "Python 3.8.10 64-bit ('deep_learning': conda)"
  },
  "interpreter": {
   "hash": "e988cf0bc41023cdb842e95dbe00fac2c7b09f17100a78e9f81aba55aff27558"
  }
 },
 "nbformat": 4,
 "nbformat_minor": 2,
 "cells": [
  {
   "cell_type": "code",
   "execution_count": 1,
   "metadata": {},
   "outputs": [],
   "source": [
    "import pandas as pd\n",
    "import glob\n",
    "import plotly\n",
    "import plotly.express as px\n",
    "\n",
    "path= \"C:/Users/Julius/Downloads/all_video_logs/all_videos\""
   ]
  },
  {
   "cell_type": "code",
   "execution_count": 2,
   "metadata": {},
   "outputs": [],
   "source": [
    "#Load all logs\n",
    "\n",
    "# all_files = glob.glob(path + \"/*.csv\")\n",
    "\n",
    "# keys = []\n",
    "# li = []\n",
    "# for filename in all_files:\n",
    "#     df = pd.read_csv(filename, index_col=0)\n",
    "#     df.index.names = [\"frame\"]\n",
    "    \n",
    "#     keys.append(os.path.basename(filename).split(\".\")[0])\n",
    "#     li.append(df)\n",
    "\n",
    "# frame = pd.concat(li, axis=0, ignore_index=False,keys=keys)\n",
    "# frame.index.names=[\"name\",\"frame\"]"
   ]
  },
  {
   "cell_type": "code",
   "execution_count": 8,
   "metadata": {},
   "outputs": [],
   "source": [
    "# Export all frames united as csv\n",
    "# frame.to_csv(\"Task_2b/all_vids_splash_pixel_count.csv\")"
   ]
  },
  {
   "cell_type": "code",
   "execution_count": 2,
   "metadata": {},
   "outputs": [
    {
     "output_type": "execute_result",
     "data": {
      "text/plain": [
       "                         vis_px  vis_px_pc  total_px  total_px_pc     diff  \\\n",
       "name              frame                                                      \n",
       "_tigfCJFLZg_00060 0        63.0       0.02   10924.0         3.56  10861.0   \n",
       "                  1       718.0       0.23    7569.0         2.46   6851.0   \n",
       "                  2      1337.0       0.44    6020.0         1.96   4683.0   \n",
       "                  3      2695.0       0.88    4888.0         1.59   2193.0   \n",
       "                  4      2951.0       0.96    4309.0         1.40   1358.0   \n",
       "...                         ...        ...       ...          ...      ...   \n",
       "_tigfCJFLZg_00393 35     6143.0       2.00    7094.0         2.31    951.0   \n",
       "                  36     6295.0       2.05    7083.0         2.31    788.0   \n",
       "                  37     6736.0       2.19    7396.0         2.41    660.0   \n",
       "                  38     7267.0       2.37    7921.0         2.58    654.0   \n",
       "                  39     7727.0       2.52    8235.0         2.68    508.0   \n",
       "\n",
       "                         diff_pc  \n",
       "name              frame           \n",
       "_tigfCJFLZg_00060 0         0.58  \n",
       "                  1         9.49  \n",
       "                  2        22.21  \n",
       "                  3        55.14  \n",
       "                  4        68.48  \n",
       "...                          ...  \n",
       "_tigfCJFLZg_00393 35       86.59  \n",
       "                  36       88.87  \n",
       "                  37       91.08  \n",
       "                  38       91.74  \n",
       "                  39       93.83  \n",
       "\n",
       "[1196 rows x 6 columns]"
      ],
      "text/html": "<div>\n<style scoped>\n    .dataframe tbody tr th:only-of-type {\n        vertical-align: middle;\n    }\n\n    .dataframe tbody tr th {\n        vertical-align: top;\n    }\n\n    .dataframe thead th {\n        text-align: right;\n    }\n</style>\n<table border=\"1\" class=\"dataframe\">\n  <thead>\n    <tr style=\"text-align: right;\">\n      <th></th>\n      <th></th>\n      <th>vis_px</th>\n      <th>vis_px_pc</th>\n      <th>total_px</th>\n      <th>total_px_pc</th>\n      <th>diff</th>\n      <th>diff_pc</th>\n    </tr>\n    <tr>\n      <th>name</th>\n      <th>frame</th>\n      <th></th>\n      <th></th>\n      <th></th>\n      <th></th>\n      <th></th>\n      <th></th>\n    </tr>\n  </thead>\n  <tbody>\n    <tr>\n      <th rowspan=\"5\" valign=\"top\">_tigfCJFLZg_00060</th>\n      <th>0</th>\n      <td>63.0</td>\n      <td>0.02</td>\n      <td>10924.0</td>\n      <td>3.56</td>\n      <td>10861.0</td>\n      <td>0.58</td>\n    </tr>\n    <tr>\n      <th>1</th>\n      <td>718.0</td>\n      <td>0.23</td>\n      <td>7569.0</td>\n      <td>2.46</td>\n      <td>6851.0</td>\n      <td>9.49</td>\n    </tr>\n    <tr>\n      <th>2</th>\n      <td>1337.0</td>\n      <td>0.44</td>\n      <td>6020.0</td>\n      <td>1.96</td>\n      <td>4683.0</td>\n      <td>22.21</td>\n    </tr>\n    <tr>\n      <th>3</th>\n      <td>2695.0</td>\n      <td>0.88</td>\n      <td>4888.0</td>\n      <td>1.59</td>\n      <td>2193.0</td>\n      <td>55.14</td>\n    </tr>\n    <tr>\n      <th>4</th>\n      <td>2951.0</td>\n      <td>0.96</td>\n      <td>4309.0</td>\n      <td>1.40</td>\n      <td>1358.0</td>\n      <td>68.48</td>\n    </tr>\n    <tr>\n      <th>...</th>\n      <th>...</th>\n      <td>...</td>\n      <td>...</td>\n      <td>...</td>\n      <td>...</td>\n      <td>...</td>\n      <td>...</td>\n    </tr>\n    <tr>\n      <th rowspan=\"5\" valign=\"top\">_tigfCJFLZg_00393</th>\n      <th>35</th>\n      <td>6143.0</td>\n      <td>2.00</td>\n      <td>7094.0</td>\n      <td>2.31</td>\n      <td>951.0</td>\n      <td>86.59</td>\n    </tr>\n    <tr>\n      <th>36</th>\n      <td>6295.0</td>\n      <td>2.05</td>\n      <td>7083.0</td>\n      <td>2.31</td>\n      <td>788.0</td>\n      <td>88.87</td>\n    </tr>\n    <tr>\n      <th>37</th>\n      <td>6736.0</td>\n      <td>2.19</td>\n      <td>7396.0</td>\n      <td>2.41</td>\n      <td>660.0</td>\n      <td>91.08</td>\n    </tr>\n    <tr>\n      <th>38</th>\n      <td>7267.0</td>\n      <td>2.37</td>\n      <td>7921.0</td>\n      <td>2.58</td>\n      <td>654.0</td>\n      <td>91.74</td>\n    </tr>\n    <tr>\n      <th>39</th>\n      <td>7727.0</td>\n      <td>2.52</td>\n      <td>8235.0</td>\n      <td>2.68</td>\n      <td>508.0</td>\n      <td>93.83</td>\n    </tr>\n  </tbody>\n</table>\n<p>1196 rows × 6 columns</p>\n</div>"
     },
     "metadata": {},
     "execution_count": 2
    }
   ],
   "source": [
    "# load frame from csv\n",
    "csv_path = \"Abgabe/Task 2b/all_vids_splash_pixel_count.csv\"\n",
    "frame = pd.read_csv(csv_path,index_col=[\"name\",\"frame\"])\n",
    "frame"
   ]
  },
  {
   "cell_type": "code",
   "execution_count": 3,
   "metadata": {},
   "outputs": [],
   "source": [
    "#first_test show_diff\n",
    "\n",
    "f3 = frame.drop(columns=[\"vis_px\",\"vis_px_pc\",\"total_px\",\"total_px_pc\",\"diff\"])\n",
    "f3 = f3.reset_index()\n",
    "\n",
    "# vis pixels / splash\n"
   ]
  },
  {
   "cell_type": "code",
   "execution_count": 4,
   "metadata": {},
   "outputs": [
    {
     "output_type": "display_data",
     "data": {
      "application/vnd.plotly.v1+json": {
       "config": {
        "plotlyServerURL": "https://plot.ly"
       },
       "data": [
        {
         "hovertemplate": "name=_tigfCJFLZg_00060<br>frame=%{x}<br>vis_px_pc=%{y}<extra></extra>",
         "legendgroup": "_tigfCJFLZg_00060",
         "line": {
          "color": "#636efa",
          "dash": "solid"
         },
         "mode": "lines",
         "name": "_tigfCJFLZg_00060",
         "showlegend": true,
         "type": "scattergl",
         "x": [
          0,
          1,
          2,
          3,
          4,
          5,
          6,
          7,
          8,
          9,
          10
         ],
         "xaxis": "x",
         "y": [
          0.02,
          0.23,
          0.44,
          0.88,
          0.96,
          0.83,
          0.68,
          0.72,
          0.74,
          0.77,
          0.9
         ],
         "yaxis": "y"
        },
        {
         "hovertemplate": "name=_tigfCJFLZg_00146<br>frame=%{x}<br>vis_px_pc=%{y}<extra></extra>",
         "legendgroup": "_tigfCJFLZg_00146",
         "line": {
          "color": "#EF553B",
          "dash": "solid"
         },
         "mode": "lines",
         "name": "_tigfCJFLZg_00146",
         "showlegend": true,
         "type": "scattergl",
         "x": [
          0,
          1,
          2,
          3,
          4,
          5,
          6,
          7,
          8,
          9,
          10,
          11,
          12,
          13,
          14,
          15,
          16,
          17,
          18,
          19,
          20,
          21,
          22,
          23,
          24,
          25,
          26,
          27,
          28,
          29,
          30,
          31,
          32,
          33,
          34,
          35,
          36,
          37,
          38,
          39,
          40,
          41,
          42,
          43,
          44,
          45,
          46,
          47,
          48,
          49,
          50,
          51,
          52,
          53,
          54
         ],
         "xaxis": "x",
         "y": [
          0.08,
          0.06,
          0.08,
          0.11,
          0.15,
          0.2,
          0.28,
          0.43,
          0.45,
          0.53,
          0.64,
          0.81,
          1.02,
          1.09,
          1.17,
          1.25,
          1.36,
          1.43,
          1.52,
          1.54,
          1.52,
          1.5,
          1.51,
          1.46,
          1.39,
          1.36,
          1.39,
          1.37,
          1.43,
          1.42,
          1.48,
          1.63,
          1.7,
          1.78,
          1.81,
          1.89,
          2.02,
          2.15,
          2.16,
          2.29,
          2.36,
          2.45,
          2.53,
          2.58,
          2.52,
          2.54,
          2.41,
          2.39,
          2.31,
          2.28,
          2.16,
          2.13,
          2.14,
          2.12,
          2.07
         ],
         "yaxis": "y"
        },
        {
         "hovertemplate": "name=_tigfCJFLZg_00151<br>frame=%{x}<br>vis_px_pc=%{y}<extra></extra>",
         "legendgroup": "_tigfCJFLZg_00151",
         "line": {
          "color": "#00cc96",
          "dash": "solid"
         },
         "mode": "lines",
         "name": "_tigfCJFLZg_00151",
         "showlegend": true,
         "type": "scattergl",
         "x": [
          0,
          1,
          2,
          3,
          4,
          5,
          6,
          7,
          8,
          9,
          10,
          11,
          12,
          13,
          14,
          15,
          16,
          17,
          18,
          19,
          20,
          21,
          22,
          23
         ],
         "xaxis": "x",
         "y": [
          0.08,
          0.01,
          0.11,
          0.2,
          0.5,
          0.79,
          1.02,
          1.26,
          1.44,
          1.69,
          1.75,
          1.77,
          1.69,
          1.7,
          1.85,
          1.87,
          1.63,
          1.51,
          1.46,
          1.33,
          1.21,
          1.11,
          1.04,
          1.1
         ],
         "yaxis": "y"
        },
        {
         "hovertemplate": "name=_tigfCJFLZg_00154<br>frame=%{x}<br>vis_px_pc=%{y}<extra></extra>",
         "legendgroup": "_tigfCJFLZg_00154",
         "line": {
          "color": "#ab63fa",
          "dash": "solid"
         },
         "mode": "lines",
         "name": "_tigfCJFLZg_00154",
         "showlegend": true,
         "type": "scattergl",
         "x": [
          0,
          1,
          2,
          3,
          4,
          5,
          6,
          7,
          8,
          9,
          10,
          11,
          12,
          13,
          14,
          15,
          16,
          17,
          18,
          19,
          20,
          21,
          22
         ],
         "xaxis": "x",
         "y": [
          0.06,
          0.34,
          0.56,
          0.82,
          0.91,
          0.8,
          0.84,
          0.96,
          1.32,
          1.59,
          1.65,
          1.82,
          2.04,
          2.29,
          2.52,
          2.77,
          2.86,
          2.84,
          2.87,
          2.78,
          2.6,
          2.48,
          2.29
         ],
         "yaxis": "y"
        },
        {
         "hovertemplate": "name=_tigfCJFLZg_00157<br>frame=%{x}<br>vis_px_pc=%{y}<extra></extra>",
         "legendgroup": "_tigfCJFLZg_00157",
         "line": {
          "color": "#FFA15A",
          "dash": "solid"
         },
         "mode": "lines",
         "name": "_tigfCJFLZg_00157",
         "showlegend": true,
         "type": "scattergl",
         "x": [
          0,
          1,
          2,
          3,
          4,
          5,
          6,
          7,
          8,
          9,
          10,
          11,
          12,
          13,
          14,
          15,
          16,
          17,
          18,
          19,
          20,
          21,
          22,
          23,
          24,
          25,
          26,
          27
         ],
         "xaxis": "x",
         "y": [
          0,
          0,
          0.12,
          0.46,
          0.57,
          0.83,
          1.05,
          1.18,
          1.17,
          0.95,
          0.94,
          0.93,
          1.14,
          1.51,
          1.92,
          2.21,
          2.26,
          2.4,
          2.43,
          2.32,
          2.21,
          2.22,
          2.2,
          2.15,
          2.15,
          2.16,
          2.34,
          2.25
         ],
         "yaxis": "y"
        },
        {
         "hovertemplate": "name=_tigfCJFLZg_00160<br>frame=%{x}<br>vis_px_pc=%{y}<extra></extra>",
         "legendgroup": "_tigfCJFLZg_00160",
         "line": {
          "color": "#19d3f3",
          "dash": "solid"
         },
         "mode": "lines",
         "name": "_tigfCJFLZg_00160",
         "showlegend": true,
         "type": "scattergl",
         "x": [
          0,
          1,
          2,
          3,
          4,
          5,
          6,
          7,
          8,
          9,
          10,
          11,
          12,
          13,
          14,
          15,
          16,
          17,
          18
         ],
         "xaxis": "x",
         "y": [
          0,
          0.4,
          0.41,
          0.36,
          0.37,
          0.36,
          0.31,
          0.3,
          0.32,
          0.37,
          0.35,
          0.38,
          0.4,
          0.38,
          0.39,
          0.4,
          0.34,
          0.32,
          0.28
         ],
         "yaxis": "y"
        },
        {
         "hovertemplate": "name=_tigfCJFLZg_00167<br>frame=%{x}<br>vis_px_pc=%{y}<extra></extra>",
         "legendgroup": "_tigfCJFLZg_00167",
         "line": {
          "color": "#FF6692",
          "dash": "solid"
         },
         "mode": "lines",
         "name": "_tigfCJFLZg_00167",
         "showlegend": true,
         "type": "scattergl",
         "x": [
          0,
          1,
          2,
          3,
          4,
          5,
          6,
          7,
          8,
          9,
          10,
          11,
          12,
          13,
          14,
          15,
          16,
          17,
          18,
          19,
          20,
          21,
          22
         ],
         "xaxis": "x",
         "y": [
          0.01,
          0.09,
          0.24,
          0.34,
          0.41,
          0.45,
          0.52,
          0.59,
          0.64,
          0.66,
          0.74,
          0.73,
          0.75,
          0.76,
          0.83,
          0.87,
          0.91,
          0.92,
          0.93,
          0.9,
          0.91,
          0.87,
          0.89
         ],
         "yaxis": "y"
        },
        {
         "hovertemplate": "name=_tigfCJFLZg_00187<br>frame=%{x}<br>vis_px_pc=%{y}<extra></extra>",
         "legendgroup": "_tigfCJFLZg_00187",
         "line": {
          "color": "#B6E880",
          "dash": "solid"
         },
         "mode": "lines",
         "name": "_tigfCJFLZg_00187",
         "showlegend": true,
         "type": "scattergl",
         "x": [
          0,
          1,
          2,
          3,
          4,
          5,
          6,
          7,
          8,
          9,
          10,
          11,
          12,
          13,
          14,
          15,
          16,
          17,
          18,
          19,
          20,
          21
         ],
         "xaxis": "x",
         "y": [
          0,
          0.12,
          0.56,
          0.71,
          1.03,
          1.27,
          1.04,
          1.01,
          0.96,
          1.07,
          1.29,
          1.49,
          1.7,
          1.87,
          2.03,
          2.23,
          2.35,
          2.3,
          2.19,
          1.77,
          1.89,
          1.77
         ],
         "yaxis": "y"
        },
        {
         "hovertemplate": "name=_tigfCJFLZg_00203<br>frame=%{x}<br>vis_px_pc=%{y}<extra></extra>",
         "legendgroup": "_tigfCJFLZg_00203",
         "line": {
          "color": "#FF97FF",
          "dash": "solid"
         },
         "mode": "lines",
         "name": "_tigfCJFLZg_00203",
         "showlegend": true,
         "type": "scattergl",
         "x": [
          0,
          1,
          2,
          3,
          4,
          5,
          6,
          7,
          8,
          9,
          10,
          11,
          12,
          13,
          14,
          15,
          16,
          17,
          18,
          19,
          20,
          21,
          22,
          23,
          24,
          25,
          26,
          27,
          28,
          29,
          30,
          31,
          32,
          33,
          34,
          35,
          36,
          37,
          38,
          39,
          40,
          41,
          42,
          43,
          44,
          45,
          46
         ],
         "xaxis": "x",
         "y": [
          0,
          0.01,
          0.04,
          0.16,
          0.29,
          0.38,
          0.46,
          0.49,
          0.56,
          0.6,
          0.6,
          0.58,
          0.58,
          0.49,
          0.48,
          0.38,
          0.34,
          0.31,
          0.33,
          0.36,
          0.33,
          0.34,
          0.35,
          0.36,
          0.38,
          0.38,
          0.46,
          0.49,
          0.52,
          0.55,
          0.62,
          0.68,
          0.74,
          0.78,
          0.83,
          0.89,
          0.93,
          0.95,
          0.94,
          0.97,
          0.97,
          0.96,
          0.97,
          1.02,
          1.04,
          1.06,
          1.09
         ],
         "yaxis": "y"
        },
        {
         "hovertemplate": "name=_tigfCJFLZg_00206<br>frame=%{x}<br>vis_px_pc=%{y}<extra></extra>",
         "legendgroup": "_tigfCJFLZg_00206",
         "line": {
          "color": "#FECB52",
          "dash": "solid"
         },
         "mode": "lines",
         "name": "_tigfCJFLZg_00206",
         "showlegend": true,
         "type": "scattergl",
         "x": [
          0,
          1,
          2,
          3,
          4,
          5,
          6,
          7,
          8,
          9,
          10,
          11,
          12,
          13,
          14,
          15,
          16,
          17,
          18,
          19,
          20,
          21,
          22,
          23,
          24,
          25,
          26,
          27,
          28,
          29,
          30,
          31,
          32,
          33,
          34,
          35,
          36,
          37,
          38,
          39,
          40,
          41,
          42,
          43,
          44,
          45,
          46,
          47,
          48,
          49,
          50,
          51,
          52,
          53,
          54,
          55,
          56,
          57,
          58,
          59,
          60,
          61,
          62,
          63,
          64,
          65,
          66,
          67,
          68
         ],
         "xaxis": "x",
         "y": [
          0.02,
          0.05,
          0.13,
          0.21,
          0.31,
          0.37,
          0.41,
          0.45,
          0.4,
          0.4,
          0.44,
          0.47,
          0.54,
          0.53,
          0.63,
          0.65,
          0.66,
          0.77,
          0.9,
          0.92,
          0.89,
          0.76,
          0.7,
          0.6,
          0.53,
          0.47,
          0.46,
          0.43,
          0.39,
          0.44,
          0.53,
          0.59,
          0.62,
          0.67,
          0.7,
          0.75,
          0.8,
          0.86,
          0.91,
          0.95,
          1,
          1.04,
          1.08,
          1.12,
          1.15,
          1.18,
          1.22,
          1.29,
          1.33,
          1.36,
          1.35,
          1.37,
          1.49,
          1.5,
          1.86,
          1.54,
          1.58,
          1.59,
          1.59,
          1.63,
          1.64,
          1.65,
          1.67,
          1.68,
          1.66,
          1.69,
          1.69,
          1.69,
          1.56
         ],
         "yaxis": "y"
        },
        {
         "hovertemplate": "name=_tigfCJFLZg_00209<br>frame=%{x}<br>vis_px_pc=%{y}<extra></extra>",
         "legendgroup": "_tigfCJFLZg_00209",
         "line": {
          "color": "#636efa",
          "dash": "solid"
         },
         "mode": "lines",
         "name": "_tigfCJFLZg_00209",
         "showlegend": true,
         "type": "scattergl",
         "x": [
          0,
          1,
          2,
          3,
          4,
          5,
          6,
          7,
          8,
          9,
          10,
          11,
          12,
          13,
          14,
          15,
          16,
          17,
          18,
          19,
          20,
          21,
          22,
          23,
          24,
          25,
          26,
          27,
          28,
          29,
          30,
          31,
          32,
          33,
          34,
          35,
          36,
          37,
          38,
          39,
          40
         ],
         "xaxis": "x",
         "y": [
          0.07,
          0.02,
          0.05,
          0.07,
          0.11,
          0.16,
          0.35,
          0.45,
          0.45,
          0.54,
          0.67,
          0.82,
          0.93,
          0.92,
          0.96,
          0.87,
          0.93,
          0.91,
          1.01,
          1,
          0.99,
          0.92,
          0.92,
          0.85,
          0.76,
          0.79,
          0.83,
          0.87,
          0.91,
          0.97,
          1.02,
          1.05,
          1.05,
          1.06,
          1.04,
          1.05,
          1.08,
          1.11,
          1.19,
          1.26,
          1.28
         ],
         "yaxis": "y"
        },
        {
         "hovertemplate": "name=_tigfCJFLZg_00217<br>frame=%{x}<br>vis_px_pc=%{y}<extra></extra>",
         "legendgroup": "_tigfCJFLZg_00217",
         "line": {
          "color": "#EF553B",
          "dash": "solid"
         },
         "mode": "lines",
         "name": "_tigfCJFLZg_00217",
         "showlegend": true,
         "type": "scattergl",
         "x": [
          0,
          1,
          2,
          3,
          4,
          5,
          6,
          7,
          8,
          9,
          10,
          11,
          12,
          13,
          14,
          15,
          16,
          17,
          18,
          19,
          20,
          21,
          22,
          23,
          24,
          25,
          26,
          27,
          28,
          29,
          30,
          31,
          32,
          33,
          34,
          35,
          36,
          37,
          38,
          39,
          40,
          41,
          42,
          43
         ],
         "xaxis": "x",
         "y": [
          0.11,
          0.02,
          0.03,
          0.09,
          0.16,
          0.22,
          0.39,
          0.6,
          0.71,
          0.75,
          0.82,
          0.87,
          1,
          0.99,
          1.03,
          0.99,
          0.83,
          0.74,
          0.71,
          0.65,
          0.65,
          0.55,
          0.4,
          0.46,
          0.47,
          0.51,
          0.53,
          0.58,
          0.62,
          0.66,
          0.72,
          0.78,
          0.78,
          0.84,
          0.89,
          0.92,
          0.96,
          1,
          1.05,
          1.1,
          1.13,
          1.18,
          1.2,
          1.22
         ],
         "yaxis": "y"
        },
        {
         "hovertemplate": "name=_tigfCJFLZg_00237<br>frame=%{x}<br>vis_px_pc=%{y}<extra></extra>",
         "legendgroup": "_tigfCJFLZg_00237",
         "line": {
          "color": "#00cc96",
          "dash": "solid"
         },
         "mode": "lines",
         "name": "_tigfCJFLZg_00237",
         "showlegend": true,
         "type": "scattergl",
         "x": [
          0,
          1,
          2,
          3,
          4,
          5,
          6,
          7,
          8,
          9,
          10,
          11,
          12,
          13,
          14,
          15,
          16,
          17,
          18,
          19,
          20,
          21,
          22
         ],
         "xaxis": "x",
         "y": [
          0.53,
          1.05,
          0.84,
          0.86,
          1.02,
          1.44,
          2.02,
          2.48,
          2.37,
          2.41,
          2.44,
          2.54,
          2.79,
          2.92,
          3.16,
          3.23,
          3.13,
          2.99,
          2.9,
          2.87,
          2.59,
          2.43,
          2.43
         ],
         "yaxis": "y"
        },
        {
         "hovertemplate": "name=_tigfCJFLZg_00243<br>frame=%{x}<br>vis_px_pc=%{y}<extra></extra>",
         "legendgroup": "_tigfCJFLZg_00243",
         "line": {
          "color": "#ab63fa",
          "dash": "solid"
         },
         "mode": "lines",
         "name": "_tigfCJFLZg_00243",
         "showlegend": true,
         "type": "scattergl",
         "x": [
          0,
          1,
          2,
          3,
          4,
          5,
          6,
          7,
          8,
          9,
          10,
          11,
          12,
          13
         ],
         "xaxis": "x",
         "y": [
          0.01,
          0.11,
          0.47,
          0.79,
          0.8,
          0.73,
          0.54,
          0.43,
          0.56,
          0.7,
          0.96,
          1.39,
          1.61,
          1.87
         ],
         "yaxis": "y"
        },
        {
         "hovertemplate": "name=_tigfCJFLZg_00246<br>frame=%{x}<br>vis_px_pc=%{y}<extra></extra>",
         "legendgroup": "_tigfCJFLZg_00246",
         "line": {
          "color": "#FFA15A",
          "dash": "solid"
         },
         "mode": "lines",
         "name": "_tigfCJFLZg_00246",
         "showlegend": true,
         "type": "scattergl",
         "x": [
          0,
          1,
          2,
          3,
          4,
          5,
          6,
          7,
          8,
          9,
          10,
          11,
          12
         ],
         "xaxis": "x",
         "y": [
          0.05,
          0.5,
          0.8,
          1,
          1.17,
          1.18,
          1.19,
          1.29,
          1.4,
          1.65,
          2.02,
          2.63,
          3.14
         ],
         "yaxis": "y"
        },
        {
         "hovertemplate": "name=_tigfCJFLZg_00258<br>frame=%{x}<br>vis_px_pc=%{y}<extra></extra>",
         "legendgroup": "_tigfCJFLZg_00258",
         "line": {
          "color": "#19d3f3",
          "dash": "solid"
         },
         "mode": "lines",
         "name": "_tigfCJFLZg_00258",
         "showlegend": true,
         "type": "scattergl",
         "x": [
          0,
          1,
          2,
          3,
          4,
          5,
          6,
          7,
          8,
          9,
          10,
          11,
          12,
          13,
          14,
          15,
          16,
          17,
          18,
          19,
          20,
          21
         ],
         "xaxis": "x",
         "y": [
          0.06,
          0.26,
          0.46,
          0.77,
          0.85,
          0.84,
          0.52,
          0.33,
          0.34,
          0.52,
          0.58,
          0.67,
          0.74,
          0.75,
          0.69,
          0.68,
          0.6,
          0.65,
          0.59,
          0.62,
          0.6,
          0.61
         ],
         "yaxis": "y"
        },
        {
         "hovertemplate": "name=_tigfCJFLZg_00261<br>frame=%{x}<br>vis_px_pc=%{y}<extra></extra>",
         "legendgroup": "_tigfCJFLZg_00261",
         "line": {
          "color": "#FF6692",
          "dash": "solid"
         },
         "mode": "lines",
         "name": "_tigfCJFLZg_00261",
         "showlegend": true,
         "type": "scattergl",
         "x": [
          0,
          1,
          2,
          3,
          4,
          5,
          6,
          7,
          8,
          9,
          10,
          11,
          12,
          13,
          14,
          15,
          16,
          17,
          18,
          19,
          20,
          21,
          22,
          23,
          24,
          25,
          26,
          27
         ],
         "xaxis": "x",
         "y": [
          0,
          0.06,
          0.71,
          0.8,
          0.83,
          0.71,
          0.77,
          0.92,
          1.03,
          1.2,
          1.39,
          1.56,
          1.82,
          2.23,
          2.58,
          3.03,
          3.33,
          3.51,
          3.48,
          3.52,
          3.59,
          3.43,
          3.35,
          3.04,
          2.82,
          2.74,
          2.66,
          2.49
         ],
         "yaxis": "y"
        },
        {
         "hovertemplate": "name=_tigfCJFLZg_00276<br>frame=%{x}<br>vis_px_pc=%{y}<extra></extra>",
         "legendgroup": "_tigfCJFLZg_00276",
         "line": {
          "color": "#B6E880",
          "dash": "solid"
         },
         "mode": "lines",
         "name": "_tigfCJFLZg_00276",
         "showlegend": true,
         "type": "scattergl",
         "x": [
          0,
          1,
          2,
          3,
          4,
          5,
          6,
          7,
          8,
          9,
          10,
          11,
          12,
          13,
          14,
          15,
          16,
          17,
          18,
          19,
          20,
          21,
          22,
          23,
          24,
          25,
          26,
          27,
          28
         ],
         "xaxis": "x",
         "y": [
          0.02,
          0.15,
          0.58,
          0.81,
          0.98,
          1.64,
          1.49,
          1.37,
          1.21,
          1.26,
          1.37,
          1.52,
          1.8,
          2.15,
          2.51,
          2.97,
          3.42,
          3.91,
          4.33,
          4.71,
          4.92,
          4.81,
          4.68,
          4.67,
          4.46,
          4.46,
          4.32,
          4.34,
          4.39
         ],
         "yaxis": "y"
        },
        {
         "hovertemplate": "name=_tigfCJFLZg_00285<br>frame=%{x}<br>vis_px_pc=%{y}<extra></extra>",
         "legendgroup": "_tigfCJFLZg_00285",
         "line": {
          "color": "#FF97FF",
          "dash": "solid"
         },
         "mode": "lines",
         "name": "_tigfCJFLZg_00285",
         "showlegend": true,
         "type": "scattergl",
         "x": [
          0,
          1,
          2,
          3,
          4,
          5,
          6,
          7,
          8,
          9,
          10,
          11,
          12,
          13,
          14,
          15,
          16,
          17,
          18,
          19
         ],
         "xaxis": "x",
         "y": [
          0.02,
          0.03,
          0.2,
          0.29,
          0.58,
          0.54,
          0.39,
          0.41,
          0.59,
          1.01,
          1.33,
          1.38,
          1.44,
          1.5,
          1.52,
          1.5,
          1.58,
          1.57,
          1.67,
          1.69
         ],
         "yaxis": "y"
        },
        {
         "hovertemplate": "name=_tigfCJFLZg_00286<br>frame=%{x}<br>vis_px_pc=%{y}<extra></extra>",
         "legendgroup": "_tigfCJFLZg_00286",
         "line": {
          "color": "#FECB52",
          "dash": "solid"
         },
         "mode": "lines",
         "name": "_tigfCJFLZg_00286",
         "showlegend": true,
         "type": "scattergl",
         "x": [
          0,
          1,
          2,
          3,
          4,
          5,
          6,
          7,
          8,
          9,
          10,
          11,
          12,
          13,
          14,
          15,
          16,
          17,
          18,
          19,
          20,
          21,
          22,
          23,
          24,
          25,
          26,
          27,
          28,
          29,
          30,
          31,
          32,
          33,
          34,
          35,
          36
         ],
         "xaxis": "x",
         "y": [
          0.01,
          0.02,
          0.04,
          0.1,
          0.2,
          0.29,
          0.29,
          0.31,
          0.41,
          0.52,
          0.64,
          0.72,
          0.85,
          0.82,
          0.83,
          0.72,
          0.64,
          0.61,
          0.57,
          0.5,
          0.57,
          0.59,
          0.7,
          0.82,
          0.99,
          1.13,
          1.29,
          1.46,
          1.52,
          1.53,
          1.58,
          1.58,
          1.63,
          1.69,
          1.76,
          1.82,
          1.83
         ],
         "yaxis": "y"
        },
        {
         "hovertemplate": "name=_tigfCJFLZg_00289<br>frame=%{x}<br>vis_px_pc=%{y}<extra></extra>",
         "legendgroup": "_tigfCJFLZg_00289",
         "line": {
          "color": "#636efa",
          "dash": "solid"
         },
         "mode": "lines",
         "name": "_tigfCJFLZg_00289",
         "showlegend": true,
         "type": "scattergl",
         "x": [
          0,
          1,
          2,
          3,
          4,
          5,
          6,
          7,
          8,
          9,
          10,
          11,
          12,
          13,
          14,
          15,
          16,
          17,
          18,
          19,
          20,
          21,
          22,
          23,
          24,
          25,
          26,
          27
         ],
         "xaxis": "x",
         "y": [
          0.18,
          0.27,
          0.72,
          0.72,
          0.74,
          0.48,
          0.56,
          0.73,
          0.8,
          0.89,
          0.86,
          0.87,
          0.94,
          0.95,
          0.95,
          0.92,
          0.89,
          0.86,
          0.89,
          0.85,
          0.87,
          0.86,
          0.79,
          0.74,
          0.72,
          0.84,
          0.81,
          0.85
         ],
         "yaxis": "y"
        },
        {
         "hovertemplate": "name=_tigfCJFLZg_00295<br>frame=%{x}<br>vis_px_pc=%{y}<extra></extra>",
         "legendgroup": "_tigfCJFLZg_00295",
         "line": {
          "color": "#EF553B",
          "dash": "solid"
         },
         "mode": "lines",
         "name": "_tigfCJFLZg_00295",
         "showlegend": true,
         "type": "scattergl",
         "x": [
          0,
          1,
          2,
          3,
          4,
          5,
          6,
          7,
          8,
          9,
          10,
          11,
          12,
          13,
          14,
          15,
          16,
          17,
          18,
          19,
          20,
          21,
          22,
          23
         ],
         "xaxis": "x",
         "y": [
          0.05,
          0.09,
          0.28,
          0.51,
          0.6,
          0.57,
          0.44,
          0.46,
          0.57,
          0.81,
          0.85,
          0.9,
          1.01,
          1.11,
          1.1,
          1.03,
          0.97,
          0.92,
          0.86,
          0.78,
          0.74,
          0.84,
          0.86,
          0.87
         ],
         "yaxis": "y"
        },
        {
         "hovertemplate": "name=_tigfCJFLZg_00298<br>frame=%{x}<br>vis_px_pc=%{y}<extra></extra>",
         "legendgroup": "_tigfCJFLZg_00298",
         "line": {
          "color": "#00cc96",
          "dash": "solid"
         },
         "mode": "lines",
         "name": "_tigfCJFLZg_00298",
         "showlegend": true,
         "type": "scattergl",
         "x": [
          0,
          1,
          2,
          3,
          4,
          5,
          6,
          7,
          8,
          9,
          10,
          11,
          12,
          13,
          14,
          15,
          16,
          17,
          18,
          19,
          20,
          21,
          22
         ],
         "xaxis": "x",
         "y": [
          0.02,
          0.19,
          0.3,
          0.94,
          1.6,
          1.78,
          1.75,
          1.77,
          2.01,
          2.39,
          2.76,
          2.93,
          2.98,
          2.92,
          2.91,
          2.84,
          2.92,
          3.01,
          3.24,
          3.4,
          3.24,
          3.19,
          3.13
         ],
         "yaxis": "y"
        },
        {
         "hovertemplate": "name=_tigfCJFLZg_00304<br>frame=%{x}<br>vis_px_pc=%{y}<extra></extra>",
         "legendgroup": "_tigfCJFLZg_00304",
         "line": {
          "color": "#ab63fa",
          "dash": "solid"
         },
         "mode": "lines",
         "name": "_tigfCJFLZg_00304",
         "showlegend": true,
         "type": "scattergl",
         "x": [
          0,
          1,
          2,
          3,
          4,
          5,
          6,
          7,
          8,
          9,
          10,
          11,
          12,
          13,
          14,
          15,
          16,
          17,
          18,
          19
         ],
         "xaxis": "x",
         "y": [
          0.01,
          0.06,
          0.06,
          0.33,
          1.01,
          1.07,
          1.17,
          1.04,
          0.88,
          0.94,
          1.18,
          1.43,
          1.75,
          1.96,
          2.04,
          2.08,
          2.02,
          1.98,
          1.82,
          1.74
         ],
         "yaxis": "y"
        },
        {
         "hovertemplate": "name=_tigfCJFLZg_00308<br>frame=%{x}<br>vis_px_pc=%{y}<extra></extra>",
         "legendgroup": "_tigfCJFLZg_00308",
         "line": {
          "color": "#FFA15A",
          "dash": "solid"
         },
         "mode": "lines",
         "name": "_tigfCJFLZg_00308",
         "showlegend": true,
         "type": "scattergl",
         "x": [
          0,
          1,
          2,
          3,
          4,
          5,
          6,
          7,
          8,
          9,
          10,
          11,
          12,
          13,
          14,
          15,
          16,
          17,
          18,
          19,
          20,
          21,
          22,
          23,
          24,
          25,
          26,
          27,
          28,
          29,
          30,
          31,
          32,
          33,
          34,
          35,
          36
         ],
         "xaxis": "x",
         "y": [
          0.03,
          0.26,
          0.26,
          0.81,
          1.15,
          1.37,
          1.3,
          0.98,
          1.06,
          1.38,
          1.63,
          1.75,
          1.72,
          1.6,
          1.38,
          1.26,
          1.19,
          1.18,
          1.24,
          1.24,
          1.28,
          1.29,
          1.31,
          1.33,
          1.29,
          1.24,
          1.15,
          1.09,
          1.01,
          0.99,
          0.98,
          1.12,
          1.19,
          1.25,
          1.24,
          0.11,
          0.14
         ],
         "yaxis": "y"
        },
        {
         "hovertemplate": "name=_tigfCJFLZg_00311<br>frame=%{x}<br>vis_px_pc=%{y}<extra></extra>",
         "legendgroup": "_tigfCJFLZg_00311",
         "line": {
          "color": "#19d3f3",
          "dash": "solid"
         },
         "mode": "lines",
         "name": "_tigfCJFLZg_00311",
         "showlegend": true,
         "type": "scattergl",
         "x": [
          0,
          1,
          2,
          3,
          4,
          5,
          6,
          7,
          8,
          9,
          10,
          11,
          12,
          13,
          14,
          15,
          16,
          17,
          18,
          19,
          20,
          21,
          22,
          23,
          24,
          25,
          26,
          27,
          28
         ],
         "xaxis": "x",
         "y": [
          0.06,
          0.08,
          0.25,
          0.22,
          0.29,
          0.45,
          0.5,
          0.8,
          0.98,
          1.13,
          1.28,
          1.46,
          1.62,
          1.66,
          1.69,
          1.81,
          1.89,
          1.91,
          1.84,
          1.89,
          1.6,
          1.54,
          1.38,
          1.27,
          1.18,
          1.11,
          1.06,
          1.04,
          0.88
         ],
         "yaxis": "y"
        },
        {
         "hovertemplate": "name=_tigfCJFLZg_00314<br>frame=%{x}<br>vis_px_pc=%{y}<extra></extra>",
         "legendgroup": "_tigfCJFLZg_00314",
         "line": {
          "color": "#FF6692",
          "dash": "solid"
         },
         "mode": "lines",
         "name": "_tigfCJFLZg_00314",
         "showlegend": true,
         "type": "scattergl",
         "x": [
          0,
          1,
          2,
          3,
          4,
          5,
          6,
          7,
          8,
          9,
          10,
          11,
          12,
          13,
          14,
          15,
          16
         ],
         "xaxis": "x",
         "y": [
          0.06,
          0.07,
          0.31,
          0.41,
          0.45,
          0.47,
          0.42,
          0.45,
          0.45,
          0.51,
          0.54,
          0.6,
          0.63,
          0.63,
          0.64,
          0.64,
          0.66
         ],
         "yaxis": "y"
        },
        {
         "hovertemplate": "name=_tigfCJFLZg_00317<br>frame=%{x}<br>vis_px_pc=%{y}<extra></extra>",
         "legendgroup": "_tigfCJFLZg_00317",
         "line": {
          "color": "#B6E880",
          "dash": "solid"
         },
         "mode": "lines",
         "name": "_tigfCJFLZg_00317",
         "showlegend": true,
         "type": "scattergl",
         "x": [
          0,
          1,
          2,
          3,
          4,
          5,
          6,
          7,
          8,
          9,
          10,
          11,
          12,
          13,
          14,
          15,
          16,
          17,
          18,
          19,
          20,
          21,
          22,
          23,
          24,
          25,
          26,
          27,
          28,
          29
         ],
         "xaxis": "x",
         "y": [
          0.05,
          0.17,
          0.53,
          0.79,
          0.72,
          0.52,
          0.31,
          0.3,
          0.4,
          0.77,
          1.09,
          1.16,
          1.32,
          1.44,
          1.63,
          1.65,
          1.21,
          1.19,
          1.32,
          1.19,
          0.96,
          0.95,
          0.72,
          0.61,
          0.82,
          0.79,
          0.69,
          0.35,
          0.45,
          0.37
         ],
         "yaxis": "y"
        },
        {
         "hovertemplate": "name=_tigfCJFLZg_00320<br>frame=%{x}<br>vis_px_pc=%{y}<extra></extra>",
         "legendgroup": "_tigfCJFLZg_00320",
         "line": {
          "color": "#FF97FF",
          "dash": "solid"
         },
         "mode": "lines",
         "name": "_tigfCJFLZg_00320",
         "showlegend": true,
         "type": "scattergl",
         "x": [
          0,
          1,
          2,
          3,
          4,
          5,
          6,
          7,
          8,
          9,
          10
         ],
         "xaxis": "x",
         "y": [
          0,
          0,
          0,
          0,
          0.09,
          0.57,
          0.83,
          1.02,
          0.72,
          0.92,
          0.75
         ],
         "yaxis": "y"
        },
        {
         "hovertemplate": "name=_tigfCJFLZg_00329<br>frame=%{x}<br>vis_px_pc=%{y}<extra></extra>",
         "legendgroup": "_tigfCJFLZg_00329",
         "line": {
          "color": "#FECB52",
          "dash": "solid"
         },
         "mode": "lines",
         "name": "_tigfCJFLZg_00329",
         "showlegend": true,
         "type": "scattergl",
         "x": [
          0,
          1,
          2,
          3,
          4,
          5,
          6,
          7,
          8,
          9,
          10,
          11,
          12,
          13,
          14,
          15,
          16,
          17
         ],
         "xaxis": "x",
         "y": [
          0,
          0.17,
          0.44,
          0.57,
          0.78,
          0.74,
          0.23,
          0.14,
          0.54,
          0.98,
          1.31,
          1.62,
          1.95,
          2.24,
          2.61,
          2.84,
          3.04,
          3.04
         ],
         "yaxis": "y"
        },
        {
         "hovertemplate": "name=_tigfCJFLZg_00340<br>frame=%{x}<br>vis_px_pc=%{y}<extra></extra>",
         "legendgroup": "_tigfCJFLZg_00340",
         "line": {
          "color": "#636efa",
          "dash": "solid"
         },
         "mode": "lines",
         "name": "_tigfCJFLZg_00340",
         "showlegend": true,
         "type": "scattergl",
         "x": [
          0,
          1,
          2,
          3,
          4,
          5,
          6,
          7,
          8,
          9,
          10,
          11,
          12,
          13,
          14,
          15,
          16,
          17,
          18,
          19,
          20,
          21
         ],
         "xaxis": "x",
         "y": [
          0.01,
          0.15,
          0.32,
          0.65,
          1.09,
          1.1,
          1.35,
          1.81,
          1.81,
          1.53,
          1.33,
          1.19,
          1.32,
          1.38,
          1.2,
          1.24,
          1.13,
          1.13,
          0.95,
          0.93,
          0.95,
          1.02
         ],
         "yaxis": "y"
        },
        {
         "hovertemplate": "name=_tigfCJFLZg_00348<br>frame=%{x}<br>vis_px_pc=%{y}<extra></extra>",
         "legendgroup": "_tigfCJFLZg_00348",
         "line": {
          "color": "#EF553B",
          "dash": "solid"
         },
         "mode": "lines",
         "name": "_tigfCJFLZg_00348",
         "showlegend": true,
         "type": "scattergl",
         "x": [
          0,
          1,
          2,
          3,
          4,
          5,
          6,
          7,
          8,
          9,
          10,
          11,
          12,
          13,
          14,
          15,
          16,
          17,
          18,
          19,
          20,
          21,
          22,
          23,
          24,
          25,
          26,
          27,
          28,
          29,
          30,
          31,
          32,
          33,
          34,
          35,
          36,
          37,
          38,
          39,
          40,
          41
         ],
         "xaxis": "x",
         "y": [
          0.01,
          0.04,
          0.04,
          0.1,
          0.14,
          0.27,
          0.35,
          0.42,
          0.48,
          0.51,
          0.57,
          0.66,
          0.72,
          0.78,
          0.79,
          0.78,
          0.73,
          0.78,
          0.72,
          0.73,
          0.68,
          0.62,
          0.65,
          0.72,
          0.76,
          0.78,
          0.85,
          0.85,
          0.86,
          0.84,
          0.88,
          0.93,
          1.03,
          1.14,
          1.23,
          1.34,
          1.48,
          1.54,
          1.63,
          1.69,
          1.78,
          1.85
         ],
         "yaxis": "y"
        },
        {
         "hovertemplate": "name=_tigfCJFLZg_00351<br>frame=%{x}<br>vis_px_pc=%{y}<extra></extra>",
         "legendgroup": "_tigfCJFLZg_00351",
         "line": {
          "color": "#00cc96",
          "dash": "solid"
         },
         "mode": "lines",
         "name": "_tigfCJFLZg_00351",
         "showlegend": true,
         "type": "scattergl",
         "x": [
          0,
          1,
          2,
          3,
          4,
          5,
          6,
          7,
          8,
          9,
          10,
          11,
          12,
          13,
          14,
          15,
          16,
          17,
          18,
          19,
          20,
          21,
          22,
          23,
          24,
          25,
          26
         ],
         "xaxis": "x",
         "y": [
          0.01,
          0.03,
          0.05,
          0.1,
          0.2,
          0.27,
          0.32,
          0.6,
          0.84,
          1.02,
          1.2,
          1.18,
          1.15,
          1.29,
          1.25,
          1.2,
          1.21,
          1.21,
          1.18,
          1.28,
          1.27,
          1.3,
          1.36,
          1.4,
          1.38,
          1.44,
          1.44
         ],
         "yaxis": "y"
        },
        {
         "hovertemplate": "name=_tigfCJFLZg_00353<br>frame=%{x}<br>vis_px_pc=%{y}<extra></extra>",
         "legendgroup": "_tigfCJFLZg_00353",
         "line": {
          "color": "#ab63fa",
          "dash": "solid"
         },
         "mode": "lines",
         "name": "_tigfCJFLZg_00353",
         "showlegend": true,
         "type": "scattergl",
         "x": [
          0,
          1,
          2,
          3,
          4,
          5,
          6,
          7,
          8,
          9,
          10,
          11,
          12,
          13,
          14,
          15,
          16,
          17,
          18,
          19,
          20,
          21,
          22,
          23,
          24,
          25,
          26,
          27,
          28,
          29,
          30
         ],
         "xaxis": "x",
         "y": [
          0.05,
          0,
          0,
          0.15,
          0.05,
          0.36,
          0.52,
          0.83,
          0.69,
          0.67,
          0.46,
          0.3,
          0.49,
          0.68,
          0.84,
          1.03,
          1.17,
          1.32,
          1.42,
          1.52,
          1.45,
          1.42,
          1.19,
          1.16,
          1.19,
          1.16,
          1.04,
          1.14,
          1.24,
          1.33,
          1.46
         ],
         "yaxis": "y"
        },
        {
         "hovertemplate": "name=_tigfCJFLZg_00354<br>frame=%{x}<br>vis_px_pc=%{y}<extra></extra>",
         "legendgroup": "_tigfCJFLZg_00354",
         "line": {
          "color": "#FFA15A",
          "dash": "solid"
         },
         "mode": "lines",
         "name": "_tigfCJFLZg_00354",
         "showlegend": true,
         "type": "scattergl",
         "x": [
          0,
          1,
          2,
          3,
          4,
          5,
          6,
          7,
          8,
          9,
          10,
          11,
          12,
          13,
          14,
          15,
          16,
          17,
          18,
          19,
          20,
          21,
          22,
          23,
          24,
          25,
          26,
          27,
          28,
          29,
          30,
          31,
          32,
          33,
          34,
          35,
          36,
          37,
          38,
          39
         ],
         "xaxis": "x",
         "y": [
          0.01,
          0.04,
          0.06,
          0.03,
          0.1,
          0.24,
          0.41,
          0.35,
          0.52,
          0.6,
          0.76,
          0.76,
          0.78,
          0.72,
          0.74,
          0.74,
          0.71,
          0.72,
          0.71,
          0.62,
          0.59,
          0.54,
          0.47,
          0.42,
          0.42,
          0.42,
          0.43,
          0.55,
          0.62,
          0.66,
          0.72,
          0.76,
          0.82,
          0.88,
          0.96,
          1.02,
          1.06,
          1.07,
          1.12,
          1.21
         ],
         "yaxis": "y"
        },
        {
         "hovertemplate": "name=_tigfCJFLZg_00357<br>frame=%{x}<br>vis_px_pc=%{y}<extra></extra>",
         "legendgroup": "_tigfCJFLZg_00357",
         "line": {
          "color": "#19d3f3",
          "dash": "solid"
         },
         "mode": "lines",
         "name": "_tigfCJFLZg_00357",
         "showlegend": true,
         "type": "scattergl",
         "x": [
          0,
          1,
          2,
          3,
          4,
          5,
          6,
          7,
          8,
          9,
          10,
          11,
          12,
          13,
          14,
          15,
          16,
          17,
          18,
          19,
          20,
          21,
          22,
          23,
          24,
          25,
          26,
          27,
          28,
          29,
          30,
          31
         ],
         "xaxis": "x",
         "y": [
          0.07,
          0.12,
          0.18,
          0.23,
          0.21,
          0.28,
          0.38,
          0.44,
          0.77,
          1.2,
          1.51,
          1.82,
          2.18,
          2.37,
          2.56,
          2.76,
          3.01,
          3.02,
          3.05,
          2.71,
          2.68,
          2.55,
          2.22,
          2.2,
          1.94,
          1.9,
          1.93,
          2.02,
          2.09,
          2.12,
          2.11,
          2.14
         ],
         "yaxis": "y"
        },
        {
         "hovertemplate": "name=_tigfCJFLZg_00366<br>frame=%{x}<br>vis_px_pc=%{y}<extra></extra>",
         "legendgroup": "_tigfCJFLZg_00366",
         "line": {
          "color": "#FF6692",
          "dash": "solid"
         },
         "mode": "lines",
         "name": "_tigfCJFLZg_00366",
         "showlegend": true,
         "type": "scattergl",
         "x": [
          0,
          1,
          2,
          3,
          4,
          5,
          6,
          7,
          8,
          9,
          10,
          11,
          12
         ],
         "xaxis": "x",
         "y": [
          0.01,
          0.09,
          0.33,
          0.77,
          1.03,
          1.2,
          1.28,
          1.17,
          1.16,
          1,
          1.1,
          1.25,
          1.34
         ],
         "yaxis": "y"
        },
        {
         "hovertemplate": "name=_tigfCJFLZg_00377<br>frame=%{x}<br>vis_px_pc=%{y}<extra></extra>",
         "legendgroup": "_tigfCJFLZg_00377",
         "line": {
          "color": "#B6E880",
          "dash": "solid"
         },
         "mode": "lines",
         "name": "_tigfCJFLZg_00377",
         "showlegend": true,
         "type": "scattergl",
         "x": [
          0,
          1,
          2,
          3,
          4,
          5,
          6,
          7,
          8,
          9,
          10,
          11,
          12,
          13,
          14,
          15,
          16,
          17,
          18,
          19,
          20,
          21,
          22,
          23,
          24,
          25,
          26,
          27,
          28,
          29,
          30,
          31,
          32,
          33,
          34,
          35,
          36,
          37,
          38
         ],
         "xaxis": "x",
         "y": [
          0.03,
          0.03,
          0.03,
          0.02,
          0.05,
          0.06,
          0.08,
          0.11,
          0.2,
          0.25,
          0.29,
          0.32,
          0.38,
          0.46,
          0.5,
          0.54,
          0.48,
          0.5,
          0.52,
          0.55,
          0.46,
          0.47,
          0.45,
          0.46,
          0.4,
          0.39,
          0.31,
          0.29,
          0.27,
          0.28,
          0.33,
          0.36,
          0.38,
          0.4,
          0.44,
          0.49,
          0.53,
          0.58,
          0.64
         ],
         "yaxis": "y"
        },
        {
         "hovertemplate": "name=_tigfCJFLZg_00380<br>frame=%{x}<br>vis_px_pc=%{y}<extra></extra>",
         "legendgroup": "_tigfCJFLZg_00380",
         "line": {
          "color": "#FF97FF",
          "dash": "solid"
         },
         "mode": "lines",
         "name": "_tigfCJFLZg_00380",
         "showlegend": true,
         "type": "scattergl",
         "x": [
          0,
          1,
          2,
          3,
          4,
          5,
          6,
          7,
          8,
          9,
          10,
          11,
          12,
          13,
          14,
          15,
          16,
          17,
          18,
          19,
          20,
          21,
          22,
          23,
          24,
          25,
          26,
          27,
          28,
          29,
          30,
          31,
          32,
          33,
          34,
          35,
          36,
          37,
          38,
          39,
          40
         ],
         "xaxis": "x",
         "y": [
          0.02,
          0.01,
          0.02,
          0.06,
          0.07,
          0.09,
          0.18,
          0.23,
          0.27,
          0.31,
          0.35,
          0.38,
          0.42,
          0.39,
          0.36,
          0.43,
          0.4,
          0.41,
          0.42,
          0.45,
          0.39,
          0.39,
          0.36,
          0.34,
          0.34,
          0.34,
          0.34,
          0.37,
          0.54,
          0.59,
          0.63,
          0.68,
          0.75,
          0.83,
          0.87,
          0.93,
          0.95,
          0.99,
          1.03,
          1.07,
          1.1
         ],
         "yaxis": "y"
        },
        {
         "hovertemplate": "name=_tigfCJFLZg_00390<br>frame=%{x}<br>vis_px_pc=%{y}<extra></extra>",
         "legendgroup": "_tigfCJFLZg_00390",
         "line": {
          "color": "#FECB52",
          "dash": "solid"
         },
         "mode": "lines",
         "name": "_tigfCJFLZg_00390",
         "showlegend": true,
         "type": "scattergl",
         "x": [
          0,
          1,
          2,
          3,
          4,
          5,
          6,
          7,
          8,
          9,
          10,
          11,
          12,
          13,
          14,
          15,
          16,
          17,
          18,
          19,
          20,
          21,
          22,
          23,
          24,
          25,
          26,
          27,
          28,
          29,
          30,
          31,
          32,
          33,
          34,
          35,
          36,
          37,
          38,
          39
         ],
         "xaxis": "x",
         "y": [
          0.02,
          0.04,
          0.07,
          0.08,
          0.15,
          0.16,
          0.23,
          0.32,
          0.35,
          0.4,
          0.43,
          0.48,
          0.62,
          0.6,
          0.6,
          0.62,
          0.64,
          0.65,
          0.69,
          0.67,
          0.63,
          0.62,
          0.61,
          0.59,
          0.62,
          0.66,
          0.77,
          0.89,
          0.99,
          1.1,
          1.25,
          1.37,
          1.45,
          1.5,
          1.54,
          1.47,
          1.55,
          1.57,
          1.57,
          1.55
         ],
         "yaxis": "y"
        },
        {
         "hovertemplate": "name=_tigfCJFLZg_00393<br>frame=%{x}<br>vis_px_pc=%{y}<extra></extra>",
         "legendgroup": "_tigfCJFLZg_00393",
         "line": {
          "color": "#636efa",
          "dash": "solid"
         },
         "mode": "lines",
         "name": "_tigfCJFLZg_00393",
         "showlegend": true,
         "type": "scattergl",
         "x": [
          0,
          1,
          2,
          3,
          4,
          5,
          6,
          7,
          8,
          9,
          10,
          11,
          12,
          13,
          14,
          15,
          16,
          17,
          18,
          19,
          20,
          21,
          22,
          23,
          24,
          25,
          26,
          27,
          28,
          29,
          30,
          31,
          32,
          33,
          34,
          35,
          36,
          37,
          38,
          39
         ],
         "xaxis": "x",
         "y": [
          0.05,
          0.05,
          0.1,
          0.1,
          0.15,
          0.23,
          0.31,
          0.4,
          0.47,
          0.44,
          0.46,
          0.45,
          0.53,
          0.5,
          0.47,
          0.36,
          0.35,
          0.32,
          0.32,
          0.21,
          0.33,
          0.6,
          0.6,
          0.91,
          1.24,
          1.35,
          1.4,
          1.46,
          1.46,
          1.51,
          1.57,
          1.65,
          1.72,
          1.81,
          1.87,
          2,
          2.05,
          2.19,
          2.37,
          2.52
         ],
         "yaxis": "y"
        }
       ],
       "layout": {
        "legend": {
         "title": {
          "text": "name"
         },
         "tracegroupgap": 0
        },
        "template": {
         "data": {
          "bar": [
           {
            "error_x": {
             "color": "#2a3f5f"
            },
            "error_y": {
             "color": "#2a3f5f"
            },
            "marker": {
             "line": {
              "color": "#E5ECF6",
              "width": 0.5
             },
             "pattern": {
              "fillmode": "overlay",
              "size": 10,
              "solidity": 0.2
             }
            },
            "type": "bar"
           }
          ],
          "barpolar": [
           {
            "marker": {
             "line": {
              "color": "#E5ECF6",
              "width": 0.5
             },
             "pattern": {
              "fillmode": "overlay",
              "size": 10,
              "solidity": 0.2
             }
            },
            "type": "barpolar"
           }
          ],
          "carpet": [
           {
            "aaxis": {
             "endlinecolor": "#2a3f5f",
             "gridcolor": "white",
             "linecolor": "white",
             "minorgridcolor": "white",
             "startlinecolor": "#2a3f5f"
            },
            "baxis": {
             "endlinecolor": "#2a3f5f",
             "gridcolor": "white",
             "linecolor": "white",
             "minorgridcolor": "white",
             "startlinecolor": "#2a3f5f"
            },
            "type": "carpet"
           }
          ],
          "choropleth": [
           {
            "colorbar": {
             "outlinewidth": 0,
             "ticks": ""
            },
            "type": "choropleth"
           }
          ],
          "contour": [
           {
            "colorbar": {
             "outlinewidth": 0,
             "ticks": ""
            },
            "colorscale": [
             [
              0,
              "#0d0887"
             ],
             [
              0.1111111111111111,
              "#46039f"
             ],
             [
              0.2222222222222222,
              "#7201a8"
             ],
             [
              0.3333333333333333,
              "#9c179e"
             ],
             [
              0.4444444444444444,
              "#bd3786"
             ],
             [
              0.5555555555555556,
              "#d8576b"
             ],
             [
              0.6666666666666666,
              "#ed7953"
             ],
             [
              0.7777777777777778,
              "#fb9f3a"
             ],
             [
              0.8888888888888888,
              "#fdca26"
             ],
             [
              1,
              "#f0f921"
             ]
            ],
            "type": "contour"
           }
          ],
          "contourcarpet": [
           {
            "colorbar": {
             "outlinewidth": 0,
             "ticks": ""
            },
            "type": "contourcarpet"
           }
          ],
          "heatmap": [
           {
            "colorbar": {
             "outlinewidth": 0,
             "ticks": ""
            },
            "colorscale": [
             [
              0,
              "#0d0887"
             ],
             [
              0.1111111111111111,
              "#46039f"
             ],
             [
              0.2222222222222222,
              "#7201a8"
             ],
             [
              0.3333333333333333,
              "#9c179e"
             ],
             [
              0.4444444444444444,
              "#bd3786"
             ],
             [
              0.5555555555555556,
              "#d8576b"
             ],
             [
              0.6666666666666666,
              "#ed7953"
             ],
             [
              0.7777777777777778,
              "#fb9f3a"
             ],
             [
              0.8888888888888888,
              "#fdca26"
             ],
             [
              1,
              "#f0f921"
             ]
            ],
            "type": "heatmap"
           }
          ],
          "heatmapgl": [
           {
            "colorbar": {
             "outlinewidth": 0,
             "ticks": ""
            },
            "colorscale": [
             [
              0,
              "#0d0887"
             ],
             [
              0.1111111111111111,
              "#46039f"
             ],
             [
              0.2222222222222222,
              "#7201a8"
             ],
             [
              0.3333333333333333,
              "#9c179e"
             ],
             [
              0.4444444444444444,
              "#bd3786"
             ],
             [
              0.5555555555555556,
              "#d8576b"
             ],
             [
              0.6666666666666666,
              "#ed7953"
             ],
             [
              0.7777777777777778,
              "#fb9f3a"
             ],
             [
              0.8888888888888888,
              "#fdca26"
             ],
             [
              1,
              "#f0f921"
             ]
            ],
            "type": "heatmapgl"
           }
          ],
          "histogram": [
           {
            "marker": {
             "pattern": {
              "fillmode": "overlay",
              "size": 10,
              "solidity": 0.2
             }
            },
            "type": "histogram"
           }
          ],
          "histogram2d": [
           {
            "colorbar": {
             "outlinewidth": 0,
             "ticks": ""
            },
            "colorscale": [
             [
              0,
              "#0d0887"
             ],
             [
              0.1111111111111111,
              "#46039f"
             ],
             [
              0.2222222222222222,
              "#7201a8"
             ],
             [
              0.3333333333333333,
              "#9c179e"
             ],
             [
              0.4444444444444444,
              "#bd3786"
             ],
             [
              0.5555555555555556,
              "#d8576b"
             ],
             [
              0.6666666666666666,
              "#ed7953"
             ],
             [
              0.7777777777777778,
              "#fb9f3a"
             ],
             [
              0.8888888888888888,
              "#fdca26"
             ],
             [
              1,
              "#f0f921"
             ]
            ],
            "type": "histogram2d"
           }
          ],
          "histogram2dcontour": [
           {
            "colorbar": {
             "outlinewidth": 0,
             "ticks": ""
            },
            "colorscale": [
             [
              0,
              "#0d0887"
             ],
             [
              0.1111111111111111,
              "#46039f"
             ],
             [
              0.2222222222222222,
              "#7201a8"
             ],
             [
              0.3333333333333333,
              "#9c179e"
             ],
             [
              0.4444444444444444,
              "#bd3786"
             ],
             [
              0.5555555555555556,
              "#d8576b"
             ],
             [
              0.6666666666666666,
              "#ed7953"
             ],
             [
              0.7777777777777778,
              "#fb9f3a"
             ],
             [
              0.8888888888888888,
              "#fdca26"
             ],
             [
              1,
              "#f0f921"
             ]
            ],
            "type": "histogram2dcontour"
           }
          ],
          "mesh3d": [
           {
            "colorbar": {
             "outlinewidth": 0,
             "ticks": ""
            },
            "type": "mesh3d"
           }
          ],
          "parcoords": [
           {
            "line": {
             "colorbar": {
              "outlinewidth": 0,
              "ticks": ""
             }
            },
            "type": "parcoords"
           }
          ],
          "pie": [
           {
            "automargin": true,
            "type": "pie"
           }
          ],
          "scatter": [
           {
            "marker": {
             "colorbar": {
              "outlinewidth": 0,
              "ticks": ""
             }
            },
            "type": "scatter"
           }
          ],
          "scatter3d": [
           {
            "line": {
             "colorbar": {
              "outlinewidth": 0,
              "ticks": ""
             }
            },
            "marker": {
             "colorbar": {
              "outlinewidth": 0,
              "ticks": ""
             }
            },
            "type": "scatter3d"
           }
          ],
          "scattercarpet": [
           {
            "marker": {
             "colorbar": {
              "outlinewidth": 0,
              "ticks": ""
             }
            },
            "type": "scattercarpet"
           }
          ],
          "scattergeo": [
           {
            "marker": {
             "colorbar": {
              "outlinewidth": 0,
              "ticks": ""
             }
            },
            "type": "scattergeo"
           }
          ],
          "scattergl": [
           {
            "marker": {
             "colorbar": {
              "outlinewidth": 0,
              "ticks": ""
             }
            },
            "type": "scattergl"
           }
          ],
          "scattermapbox": [
           {
            "marker": {
             "colorbar": {
              "outlinewidth": 0,
              "ticks": ""
             }
            },
            "type": "scattermapbox"
           }
          ],
          "scatterpolar": [
           {
            "marker": {
             "colorbar": {
              "outlinewidth": 0,
              "ticks": ""
             }
            },
            "type": "scatterpolar"
           }
          ],
          "scatterpolargl": [
           {
            "marker": {
             "colorbar": {
              "outlinewidth": 0,
              "ticks": ""
             }
            },
            "type": "scatterpolargl"
           }
          ],
          "scatterternary": [
           {
            "marker": {
             "colorbar": {
              "outlinewidth": 0,
              "ticks": ""
             }
            },
            "type": "scatterternary"
           }
          ],
          "surface": [
           {
            "colorbar": {
             "outlinewidth": 0,
             "ticks": ""
            },
            "colorscale": [
             [
              0,
              "#0d0887"
             ],
             [
              0.1111111111111111,
              "#46039f"
             ],
             [
              0.2222222222222222,
              "#7201a8"
             ],
             [
              0.3333333333333333,
              "#9c179e"
             ],
             [
              0.4444444444444444,
              "#bd3786"
             ],
             [
              0.5555555555555556,
              "#d8576b"
             ],
             [
              0.6666666666666666,
              "#ed7953"
             ],
             [
              0.7777777777777778,
              "#fb9f3a"
             ],
             [
              0.8888888888888888,
              "#fdca26"
             ],
             [
              1,
              "#f0f921"
             ]
            ],
            "type": "surface"
           }
          ],
          "table": [
           {
            "cells": {
             "fill": {
              "color": "#EBF0F8"
             },
             "line": {
              "color": "white"
             }
            },
            "header": {
             "fill": {
              "color": "#C8D4E3"
             },
             "line": {
              "color": "white"
             }
            },
            "type": "table"
           }
          ]
         },
         "layout": {
          "annotationdefaults": {
           "arrowcolor": "#2a3f5f",
           "arrowhead": 0,
           "arrowwidth": 1
          },
          "autotypenumbers": "strict",
          "coloraxis": {
           "colorbar": {
            "outlinewidth": 0,
            "ticks": ""
           }
          },
          "colorscale": {
           "diverging": [
            [
             0,
             "#8e0152"
            ],
            [
             0.1,
             "#c51b7d"
            ],
            [
             0.2,
             "#de77ae"
            ],
            [
             0.3,
             "#f1b6da"
            ],
            [
             0.4,
             "#fde0ef"
            ],
            [
             0.5,
             "#f7f7f7"
            ],
            [
             0.6,
             "#e6f5d0"
            ],
            [
             0.7,
             "#b8e186"
            ],
            [
             0.8,
             "#7fbc41"
            ],
            [
             0.9,
             "#4d9221"
            ],
            [
             1,
             "#276419"
            ]
           ],
           "sequential": [
            [
             0,
             "#0d0887"
            ],
            [
             0.1111111111111111,
             "#46039f"
            ],
            [
             0.2222222222222222,
             "#7201a8"
            ],
            [
             0.3333333333333333,
             "#9c179e"
            ],
            [
             0.4444444444444444,
             "#bd3786"
            ],
            [
             0.5555555555555556,
             "#d8576b"
            ],
            [
             0.6666666666666666,
             "#ed7953"
            ],
            [
             0.7777777777777778,
             "#fb9f3a"
            ],
            [
             0.8888888888888888,
             "#fdca26"
            ],
            [
             1,
             "#f0f921"
            ]
           ],
           "sequentialminus": [
            [
             0,
             "#0d0887"
            ],
            [
             0.1111111111111111,
             "#46039f"
            ],
            [
             0.2222222222222222,
             "#7201a8"
            ],
            [
             0.3333333333333333,
             "#9c179e"
            ],
            [
             0.4444444444444444,
             "#bd3786"
            ],
            [
             0.5555555555555556,
             "#d8576b"
            ],
            [
             0.6666666666666666,
             "#ed7953"
            ],
            [
             0.7777777777777778,
             "#fb9f3a"
            ],
            [
             0.8888888888888888,
             "#fdca26"
            ],
            [
             1,
             "#f0f921"
            ]
           ]
          },
          "colorway": [
           "#636efa",
           "#EF553B",
           "#00cc96",
           "#ab63fa",
           "#FFA15A",
           "#19d3f3",
           "#FF6692",
           "#B6E880",
           "#FF97FF",
           "#FECB52"
          ],
          "font": {
           "color": "#2a3f5f"
          },
          "geo": {
           "bgcolor": "white",
           "lakecolor": "white",
           "landcolor": "#E5ECF6",
           "showlakes": true,
           "showland": true,
           "subunitcolor": "white"
          },
          "hoverlabel": {
           "align": "left"
          },
          "hovermode": "closest",
          "mapbox": {
           "style": "light"
          },
          "paper_bgcolor": "white",
          "plot_bgcolor": "#E5ECF6",
          "polar": {
           "angularaxis": {
            "gridcolor": "white",
            "linecolor": "white",
            "ticks": ""
           },
           "bgcolor": "#E5ECF6",
           "radialaxis": {
            "gridcolor": "white",
            "linecolor": "white",
            "ticks": ""
           }
          },
          "scene": {
           "xaxis": {
            "backgroundcolor": "#E5ECF6",
            "gridcolor": "white",
            "gridwidth": 2,
            "linecolor": "white",
            "showbackground": true,
            "ticks": "",
            "zerolinecolor": "white"
           },
           "yaxis": {
            "backgroundcolor": "#E5ECF6",
            "gridcolor": "white",
            "gridwidth": 2,
            "linecolor": "white",
            "showbackground": true,
            "ticks": "",
            "zerolinecolor": "white"
           },
           "zaxis": {
            "backgroundcolor": "#E5ECF6",
            "gridcolor": "white",
            "gridwidth": 2,
            "linecolor": "white",
            "showbackground": true,
            "ticks": "",
            "zerolinecolor": "white"
           }
          },
          "shapedefaults": {
           "line": {
            "color": "#2a3f5f"
           }
          },
          "ternary": {
           "aaxis": {
            "gridcolor": "white",
            "linecolor": "white",
            "ticks": ""
           },
           "baxis": {
            "gridcolor": "white",
            "linecolor": "white",
            "ticks": ""
           },
           "bgcolor": "#E5ECF6",
           "caxis": {
            "gridcolor": "white",
            "linecolor": "white",
            "ticks": ""
           }
          },
          "title": {
           "x": 0.05
          },
          "xaxis": {
           "automargin": true,
           "gridcolor": "white",
           "linecolor": "white",
           "ticks": "",
           "title": {
            "standoff": 15
           },
           "zerolinecolor": "white",
           "zerolinewidth": 2
          },
          "yaxis": {
           "automargin": true,
           "gridcolor": "white",
           "linecolor": "white",
           "ticks": "",
           "title": {
            "standoff": 15
           },
           "zerolinecolor": "white",
           "zerolinewidth": 2
          }
         }
        },
        "title": {
         "text": "Visible red pixles (splash) per frame in %"
        },
        "xaxis": {
         "anchor": "y",
         "domain": [
          0,
          1
         ],
         "title": {
          "text": "frame"
         }
        },
        "yaxis": {
         "anchor": "x",
         "domain": [
          0,
          1
         ],
         "title": {
          "text": "vis_px_pc"
         }
        }
       }
      }
     },
     "metadata": {}
    }
   ],
   "source": [
    "fig = px.line(frame.reset_index(), x=\"frame\", y=\"vis_px_pc\",color=\"name\",title=\"Visible red pixles (splash) per frame in %\")\n",
    "fig.show()"
   ]
  },
  {
   "cell_type": "code",
   "execution_count": 5,
   "metadata": {},
   "outputs": [
    {
     "output_type": "display_data",
     "data": {
      "application/vnd.plotly.v1+json": {
       "config": {
        "plotlyServerURL": "https://plot.ly"
       },
       "data": [
        {
         "hovertemplate": "name=_tigfCJFLZg_00060<br>frame=%{x}<br>diff_pc=%{y}<extra></extra>",
         "legendgroup": "_tigfCJFLZg_00060",
         "line": {
          "color": "#636efa",
          "dash": "solid"
         },
         "mode": "lines",
         "name": "_tigfCJFLZg_00060",
         "showlegend": true,
         "type": "scattergl",
         "x": [
          0,
          1,
          2,
          3,
          4,
          5,
          6,
          7,
          8,
          9,
          10
         ],
         "xaxis": "x",
         "y": [
          0.58,
          9.49,
          22.21,
          55.14,
          68.48,
          70.97,
          65.67,
          62.95,
          65.91,
          69.15,
          70.26
         ],
         "yaxis": "y"
        },
        {
         "hovertemplate": "name=_tigfCJFLZg_00146<br>frame=%{x}<br>diff_pc=%{y}<extra></extra>",
         "legendgroup": "_tigfCJFLZg_00146",
         "line": {
          "color": "#EF553B",
          "dash": "solid"
         },
         "mode": "lines",
         "name": "_tigfCJFLZg_00146",
         "showlegend": true,
         "type": "scattergl",
         "x": [
          0,
          1,
          2,
          3,
          4,
          5,
          6,
          7,
          8,
          9,
          10,
          11,
          12,
          13,
          14,
          15,
          16,
          17,
          18,
          19,
          20,
          21,
          22,
          23,
          24,
          25,
          26,
          27,
          28,
          29,
          30,
          31,
          32,
          33,
          34,
          35,
          36,
          37,
          38,
          39,
          40,
          41,
          42,
          43,
          44,
          45,
          46,
          47,
          48,
          49,
          50,
          51,
          52,
          53,
          54
         ],
         "xaxis": "x",
         "y": [
          2.07,
          1.39,
          7.34,
          11.27,
          14.37,
          20.08,
          25.68,
          35.8,
          37.6,
          41.74,
          53.7,
          69.51,
          85.5,
          86.94,
          88.05,
          87.71,
          86.89,
          85.36,
          82.74,
          83.3,
          82.09,
          79.35,
          80.23,
          79.68,
          78.16,
          76.79,
          78.63,
          77.51,
          78.3,
          77.25,
          77.67,
          81.24,
          83.33,
          83.13,
          80.53,
          80.23,
          83.43,
          84.07,
          84.01,
          84.71,
          85.31,
          86.36,
          87.4,
          87.43,
          88.39,
          87.82,
          88.24,
          88.07,
          88.82,
          88.93,
          89.09,
          88.74,
          88.92,
          89.87,
          89.1
         ],
         "yaxis": "y"
        },
        {
         "hovertemplate": "name=_tigfCJFLZg_00151<br>frame=%{x}<br>diff_pc=%{y}<extra></extra>",
         "legendgroup": "_tigfCJFLZg_00151",
         "line": {
          "color": "#00cc96",
          "dash": "solid"
         },
         "mode": "lines",
         "name": "_tigfCJFLZg_00151",
         "showlegend": true,
         "type": "scattergl",
         "x": [
          0,
          1,
          2,
          3,
          4,
          5,
          6,
          7,
          8,
          9,
          10,
          11,
          12,
          13,
          14,
          15,
          16,
          17,
          18,
          19,
          20,
          21,
          22,
          23
         ],
         "xaxis": "x",
         "y": [
          2.56,
          0.45,
          17.23,
          30.53,
          61.03,
          56.2,
          64.32,
          71.74,
          76.56,
          83.09,
          83.03,
          83.13,
          83.21,
          82.42,
          84.15,
          84.52,
          81.86,
          79.21,
          77.41,
          79.55,
          75.11,
          73.16,
          73.44,
          74.56
         ],
         "yaxis": "y"
        },
        {
         "hovertemplate": "name=_tigfCJFLZg_00154<br>frame=%{x}<br>diff_pc=%{y}<extra></extra>",
         "legendgroup": "_tigfCJFLZg_00154",
         "line": {
          "color": "#ab63fa",
          "dash": "solid"
         },
         "mode": "lines",
         "name": "_tigfCJFLZg_00154",
         "showlegend": true,
         "type": "scattergl",
         "x": [
          0,
          1,
          2,
          3,
          4,
          5,
          6,
          7,
          8,
          9,
          10,
          11,
          12,
          13,
          14,
          15,
          16,
          17,
          18,
          19,
          20,
          21,
          22
         ],
         "xaxis": "x",
         "y": [
          3.23,
          27.6,
          40.64,
          59.89,
          62.89,
          55.55,
          55.48,
          52.03,
          66.49,
          69,
          70.26,
          68.62,
          76.42,
          76.11,
          79.34,
          76.87,
          79.83,
          79.35,
          79.4,
          75.94,
          77.44,
          76.12,
          74.89
         ],
         "yaxis": "y"
        },
        {
         "hovertemplate": "name=_tigfCJFLZg_00157<br>frame=%{x}<br>diff_pc=%{y}<extra></extra>",
         "legendgroup": "_tigfCJFLZg_00157",
         "line": {
          "color": "#FFA15A",
          "dash": "solid"
         },
         "mode": "lines",
         "name": "_tigfCJFLZg_00157",
         "showlegend": true,
         "type": "scattergl",
         "x": [
          0,
          1,
          2,
          3,
          4,
          5,
          6,
          7,
          8,
          9,
          10,
          11,
          12,
          13,
          14,
          15,
          16,
          17,
          18,
          19,
          20,
          21,
          22,
          23,
          24,
          25,
          26,
          27
         ],
         "xaxis": "x",
         "y": [
          0.27,
          0.02,
          4.96,
          14.85,
          14.88,
          19.04,
          21.47,
          21.22,
          19.64,
          15.35,
          14.47,
          14.27,
          16.69,
          21.01,
          27.06,
          31.35,
          33.67,
          36.92,
          38.91,
          38.27,
          38.43,
          39.02,
          39.79,
          38.9,
          38.83,
          39.7,
          45.19,
          42.94
         ],
         "yaxis": "y"
        },
        {
         "hovertemplate": "name=_tigfCJFLZg_00160<br>frame=%{x}<br>diff_pc=%{y}<extra></extra>",
         "legendgroup": "_tigfCJFLZg_00160",
         "line": {
          "color": "#19d3f3",
          "dash": "solid"
         },
         "mode": "lines",
         "name": "_tigfCJFLZg_00160",
         "showlegend": true,
         "type": "scattergl",
         "x": [
          0,
          1,
          2,
          3,
          4,
          5,
          6,
          7,
          8,
          9,
          10,
          11,
          12,
          13,
          14,
          15,
          16,
          17,
          18
         ],
         "xaxis": "x",
         "y": [
          0,
          9.33,
          9.45,
          8.29,
          9.52,
          9.08,
          7.55,
          7.78,
          8.42,
          9.88,
          9.25,
          10.18,
          10.43,
          10.16,
          10.32,
          10.47,
          9.34,
          8.84,
          7.73
         ],
         "yaxis": "y"
        },
        {
         "hovertemplate": "name=_tigfCJFLZg_00167<br>frame=%{x}<br>diff_pc=%{y}<extra></extra>",
         "legendgroup": "_tigfCJFLZg_00167",
         "line": {
          "color": "#FF6692",
          "dash": "solid"
         },
         "mode": "lines",
         "name": "_tigfCJFLZg_00167",
         "showlegend": true,
         "type": "scattergl",
         "x": [
          0,
          1,
          2,
          3,
          4,
          5,
          6,
          7,
          8,
          9,
          10,
          11,
          12,
          13,
          14,
          15,
          16,
          17,
          18,
          19,
          20,
          21,
          22
         ],
         "xaxis": "x",
         "y": [
          1.74,
          11.8,
          29.87,
          38.83,
          40.19,
          40.78,
          44.3,
          44.8,
          47.82,
          46,
          48.08,
          44.13,
          46.6,
          44.95,
          47.9,
          46.64,
          48.62,
          47.94,
          50.34,
          48.69,
          50.89,
          49.91,
          52.41
         ],
         "yaxis": "y"
        },
        {
         "hovertemplate": "name=_tigfCJFLZg_00187<br>frame=%{x}<br>diff_pc=%{y}<extra></extra>",
         "legendgroup": "_tigfCJFLZg_00187",
         "line": {
          "color": "#B6E880",
          "dash": "solid"
         },
         "mode": "lines",
         "name": "_tigfCJFLZg_00187",
         "showlegend": true,
         "type": "scattergl",
         "x": [
          0,
          1,
          2,
          3,
          4,
          5,
          6,
          7,
          8,
          9,
          10,
          11,
          12,
          13,
          14,
          15,
          16,
          17,
          18,
          19,
          20,
          21
         ],
         "xaxis": "x",
         "y": [
          0,
          4.2,
          24.12,
          47.47,
          66.38,
          87.92,
          71.36,
          73.41,
          80.15,
          84.01,
          83.79,
          83.32,
          86.83,
          87.69,
          89.94,
          91.65,
          94.75,
          93.81,
          95.29,
          84.87,
          93.35,
          90.19
         ],
         "yaxis": "y"
        },
        {
         "hovertemplate": "name=_tigfCJFLZg_00203<br>frame=%{x}<br>diff_pc=%{y}<extra></extra>",
         "legendgroup": "_tigfCJFLZg_00203",
         "line": {
          "color": "#FF97FF",
          "dash": "solid"
         },
         "mode": "lines",
         "name": "_tigfCJFLZg_00203",
         "showlegend": true,
         "type": "scattergl",
         "x": [
          0,
          1,
          2,
          3,
          4,
          5,
          6,
          7,
          8,
          9,
          10,
          11,
          12,
          13,
          14,
          15,
          16,
          17,
          18,
          19,
          20,
          21,
          22,
          23,
          24,
          25,
          26,
          27,
          28,
          29,
          30,
          31,
          32,
          33,
          34,
          35,
          36,
          37,
          38,
          39,
          40,
          41,
          42,
          43,
          44,
          45,
          46
         ],
         "xaxis": "x",
         "y": [
          0,
          1.01,
          4.9,
          15.45,
          22.29,
          25.95,
          28.15,
          29.79,
          32.15,
          32.22,
          31.19,
          31.25,
          31.45,
          27.93,
          26.76,
          22.1,
          20.68,
          19.27,
          20.53,
          21.55,
          20.58,
          20.38,
          21.72,
          21.44,
          22.59,
          22.95,
          26.66,
          27.55,
          28.61,
          30.03,
          32.36,
          34.57,
          37,
          39.03,
          40.41,
          41.41,
          42.4,
          42.97,
          43.26,
          42.95,
          42.95,
          42.82,
          42.25,
          43.9,
          45.29,
          45.61,
          45.74
         ],
         "yaxis": "y"
        },
        {
         "hovertemplate": "name=_tigfCJFLZg_00206<br>frame=%{x}<br>diff_pc=%{y}<extra></extra>",
         "legendgroup": "_tigfCJFLZg_00206",
         "line": {
          "color": "#FECB52",
          "dash": "solid"
         },
         "mode": "lines",
         "name": "_tigfCJFLZg_00206",
         "showlegend": true,
         "type": "scattergl",
         "x": [
          0,
          1,
          2,
          3,
          4,
          5,
          6,
          7,
          8,
          9,
          10,
          11,
          12,
          13,
          14,
          15,
          16,
          17,
          18,
          19,
          20,
          21,
          22,
          23,
          24,
          25,
          26,
          27,
          28,
          29,
          30,
          31,
          32,
          33,
          34,
          35,
          36,
          37,
          38,
          39,
          40,
          41,
          42,
          43,
          44,
          45,
          46,
          47,
          48,
          49,
          50,
          51,
          52,
          53,
          54,
          55,
          56,
          57,
          58,
          59,
          60,
          61,
          62,
          63,
          64,
          65,
          66,
          67,
          68
         ],
         "xaxis": "x",
         "y": [
          15.24,
          26.81,
          46.23,
          52.81,
          57.33,
          51.76,
          47.51,
          46.88,
          33.68,
          29.19,
          32.07,
          31.91,
          35.12,
          32.79,
          36.56,
          35.31,
          34.06,
          36.92,
          43.18,
          43.36,
          42.51,
          36.33,
          35.63,
          31.15,
          29.73,
          26.15,
          25.43,
          23.05,
          21.29,
          22.72,
          25.33,
          26.61,
          26.71,
          27.76,
          27.93,
          29.75,
          30.81,
          32.6,
          34.56,
          36.22,
          36.75,
          36.84,
          36.92,
          38.29,
          37.98,
          38.67,
          39.09,
          41.17,
          41.2,
          41.31,
          41.02,
          40.92,
          43.24,
          43.07,
          52.25,
          43.01,
          42.97,
          42.6,
          41.58,
          42.26,
          41.99,
          41.88,
          42.17,
          42.35,
          41.76,
          41.96,
          42.08,
          42.1,
          44.8
         ],
         "yaxis": "y"
        },
        {
         "hovertemplate": "name=_tigfCJFLZg_00209<br>frame=%{x}<br>diff_pc=%{y}<extra></extra>",
         "legendgroup": "_tigfCJFLZg_00209",
         "line": {
          "color": "#636efa",
          "dash": "solid"
         },
         "mode": "lines",
         "name": "_tigfCJFLZg_00209",
         "showlegend": true,
         "type": "scattergl",
         "x": [
          0,
          1,
          2,
          3,
          4,
          5,
          6,
          7,
          8,
          9,
          10,
          11,
          12,
          13,
          14,
          15,
          16,
          17,
          18,
          19,
          20,
          21,
          22,
          23,
          24,
          25,
          26,
          27,
          28,
          29,
          30,
          31,
          32,
          33,
          34,
          35,
          36,
          37,
          38,
          39,
          40
         ],
         "xaxis": "x",
         "y": [
          1.92,
          2.23,
          6.37,
          9.58,
          15.38,
          20.51,
          50.71,
          68.72,
          66.26,
          69.17,
          72.29,
          74.69,
          76.54,
          77.1,
          76.79,
          66.85,
          69.42,
          63.67,
          66.78,
          66.39,
          66.73,
          62.47,
          62.47,
          59.75,
          54.83,
          55.76,
          57.43,
          58.01,
          58.95,
          59.67,
          62.36,
          63.5,
          64.42,
          63.72,
          65.6,
          65.1,
          66.69,
          66.47,
          70.56,
          71.75,
          73.84
         ],
         "yaxis": "y"
        },
        {
         "hovertemplate": "name=_tigfCJFLZg_00217<br>frame=%{x}<br>diff_pc=%{y}<extra></extra>",
         "legendgroup": "_tigfCJFLZg_00217",
         "line": {
          "color": "#EF553B",
          "dash": "solid"
         },
         "mode": "lines",
         "name": "_tigfCJFLZg_00217",
         "showlegend": true,
         "type": "scattergl",
         "x": [
          0,
          1,
          2,
          3,
          4,
          5,
          6,
          7,
          8,
          9,
          10,
          11,
          12,
          13,
          14,
          15,
          16,
          17,
          18,
          19,
          20,
          21,
          22,
          23,
          24,
          25,
          26,
          27,
          28,
          29,
          30,
          31,
          32,
          33,
          34,
          35,
          36,
          37,
          38,
          39,
          40,
          41,
          42,
          43
         ],
         "xaxis": "x",
         "y": [
          2.25,
          2.09,
          4.27,
          11.16,
          18.9,
          24.88,
          35.09,
          48.12,
          54.17,
          62.13,
          66.95,
          73.57,
          72.8,
          71.84,
          67.19,
          67.28,
          65.88,
          62.93,
          59.74,
          55.6,
          55.59,
          53.8,
          44.45,
          49.58,
          46.92,
          49.95,
          49.89,
          52.8,
          53.94,
          56.1,
          56.5,
          60.5,
          60.3,
          62.23,
          62.22,
          66.51,
          66.88,
          70.01,
          69.16,
          71.23,
          71,
          73.73,
          73.71,
          75.93
         ],
         "yaxis": "y"
        },
        {
         "hovertemplate": "name=_tigfCJFLZg_00237<br>frame=%{x}<br>diff_pc=%{y}<extra></extra>",
         "legendgroup": "_tigfCJFLZg_00237",
         "line": {
          "color": "#00cc96",
          "dash": "solid"
         },
         "mode": "lines",
         "name": "_tigfCJFLZg_00237",
         "showlegend": true,
         "type": "scattergl",
         "x": [
          0,
          1,
          2,
          3,
          4,
          5,
          6,
          7,
          8,
          9,
          10,
          11,
          12,
          13,
          14,
          15,
          16,
          17,
          18,
          19,
          20,
          21,
          22
         ],
         "xaxis": "x",
         "y": [
          43.97,
          68.66,
          61.68,
          70.2,
          84.07,
          89.06,
          91.93,
          93.09,
          93.58,
          98.21,
          94.07,
          94.09,
          95.59,
          96.98,
          96.12,
          96.72,
          95.58,
          95.9,
          94.77,
          93.83,
          91.78,
          93.31,
          96.12
         ],
         "yaxis": "y"
        },
        {
         "hovertemplate": "name=_tigfCJFLZg_00243<br>frame=%{x}<br>diff_pc=%{y}<extra></extra>",
         "legendgroup": "_tigfCJFLZg_00243",
         "line": {
          "color": "#ab63fa",
          "dash": "solid"
         },
         "mode": "lines",
         "name": "_tigfCJFLZg_00243",
         "showlegend": true,
         "type": "scattergl",
         "x": [
          0,
          1,
          2,
          3,
          4,
          5,
          6,
          7,
          8,
          9,
          10,
          11,
          12,
          13
         ],
         "xaxis": "x",
         "y": [
          1.64,
          12.97,
          65.09,
          91.44,
          83.74,
          78.22,
          62,
          55,
          58.2,
          64.01,
          71.32,
          77.08,
          79.59,
          85.04
         ],
         "yaxis": "y"
        },
        {
         "hovertemplate": "name=_tigfCJFLZg_00246<br>frame=%{x}<br>diff_pc=%{y}<extra></extra>",
         "legendgroup": "_tigfCJFLZg_00246",
         "line": {
          "color": "#FFA15A",
          "dash": "solid"
         },
         "mode": "lines",
         "name": "_tigfCJFLZg_00246",
         "showlegend": true,
         "type": "scattergl",
         "x": [
          0,
          1,
          2,
          3,
          4,
          5,
          6,
          7,
          8,
          9,
          10,
          11,
          12
         ],
         "xaxis": "x",
         "y": [
          3.87,
          18.46,
          22.16,
          23.3,
          26.32,
          27.13,
          28.22,
          29.96,
          33.58,
          37.08,
          40.92,
          48.31,
          52.07
         ],
         "yaxis": "y"
        },
        {
         "hovertemplate": "name=_tigfCJFLZg_00258<br>frame=%{x}<br>diff_pc=%{y}<extra></extra>",
         "legendgroup": "_tigfCJFLZg_00258",
         "line": {
          "color": "#19d3f3",
          "dash": "solid"
         },
         "mode": "lines",
         "name": "_tigfCJFLZg_00258",
         "showlegend": true,
         "type": "scattergl",
         "x": [
          0,
          1,
          2,
          3,
          4,
          5,
          6,
          7,
          8,
          9,
          10,
          11,
          12,
          13,
          14,
          15,
          16,
          17,
          18,
          19,
          20,
          21
         ],
         "xaxis": "x",
         "y": [
          11.25,
          34.09,
          73,
          58.76,
          53.88,
          47.82,
          31.63,
          22.27,
          26.79,
          34.81,
          38.97,
          40.71,
          43.06,
          41.24,
          40.28,
          39.1,
          35.87,
          34.73,
          33.46,
          33.52,
          31.77,
          28.71
         ],
         "yaxis": "y"
        },
        {
         "hovertemplate": "name=_tigfCJFLZg_00261<br>frame=%{x}<br>diff_pc=%{y}<extra></extra>",
         "legendgroup": "_tigfCJFLZg_00261",
         "line": {
          "color": "#FF6692",
          "dash": "solid"
         },
         "mode": "lines",
         "name": "_tigfCJFLZg_00261",
         "showlegend": true,
         "type": "scattergl",
         "x": [
          0,
          1,
          2,
          3,
          4,
          5,
          6,
          7,
          8,
          9,
          10,
          11,
          12,
          13,
          14,
          15,
          16,
          17,
          18,
          19,
          20,
          21,
          22,
          23,
          24,
          25,
          26,
          27
         ],
         "xaxis": "x",
         "y": [
          0.35,
          9.08,
          66.27,
          88.08,
          69.51,
          48.69,
          41.83,
          45.02,
          49.86,
          56.35,
          60.19,
          61.58,
          63.47,
          70.44,
          72.59,
          75.94,
          79.24,
          80.84,
          80.31,
          79.57,
          79.97,
          81.8,
          77.33,
          73.25,
          77.45,
          76.69,
          74.78,
          72.63
         ],
         "yaxis": "y"
        },
        {
         "hovertemplate": "name=_tigfCJFLZg_00276<br>frame=%{x}<br>diff_pc=%{y}<extra></extra>",
         "legendgroup": "_tigfCJFLZg_00276",
         "line": {
          "color": "#B6E880",
          "dash": "solid"
         },
         "mode": "lines",
         "name": "_tigfCJFLZg_00276",
         "showlegend": true,
         "type": "scattergl",
         "x": [
          0,
          1,
          2,
          3,
          4,
          5,
          6,
          7,
          8,
          9,
          10,
          11,
          12,
          13,
          14,
          15,
          16,
          17,
          18,
          19,
          20,
          21,
          22,
          23,
          24,
          25,
          26,
          27,
          28
         ],
         "xaxis": "x",
         "y": [
          2.62,
          26.89,
          71.39,
          62.67,
          60.06,
          88.13,
          79.34,
          73.82,
          80.09,
          85.13,
          85.94,
          84.91,
          86.68,
          89.24,
          90.66,
          91.85,
          92.67,
          92.41,
          94.07,
          94.09,
          94.58,
          94.37,
          94.03,
          94.57,
          94.1,
          94.65,
          94.47,
          94.24,
          93.82
         ],
         "yaxis": "y"
        },
        {
         "hovertemplate": "name=_tigfCJFLZg_00285<br>frame=%{x}<br>diff_pc=%{y}<extra></extra>",
         "legendgroup": "_tigfCJFLZg_00285",
         "line": {
          "color": "#FF97FF",
          "dash": "solid"
         },
         "mode": "lines",
         "name": "_tigfCJFLZg_00285",
         "showlegend": true,
         "type": "scattergl",
         "x": [
          0,
          1,
          2,
          3,
          4,
          5,
          6,
          7,
          8,
          9,
          10,
          11,
          12,
          13,
          14,
          15,
          16,
          17,
          18,
          19
         ],
         "xaxis": "x",
         "y": [
          0.85,
          2.39,
          21.73,
          37.02,
          53.34,
          47.02,
          37.69,
          35.63,
          50.26,
          69.65,
          75.93,
          78.42,
          74.56,
          78.89,
          79.2,
          78.65,
          78.1,
          80.83,
          82.01,
          81.04
         ],
         "yaxis": "y"
        },
        {
         "hovertemplate": "name=_tigfCJFLZg_00286<br>frame=%{x}<br>diff_pc=%{y}<extra></extra>",
         "legendgroup": "_tigfCJFLZg_00286",
         "line": {
          "color": "#FECB52",
          "dash": "solid"
         },
         "mode": "lines",
         "name": "_tigfCJFLZg_00286",
         "showlegend": true,
         "type": "scattergl",
         "x": [
          0,
          1,
          2,
          3,
          4,
          5,
          6,
          7,
          8,
          9,
          10,
          11,
          12,
          13,
          14,
          15,
          16,
          17,
          18,
          19,
          20,
          21,
          22,
          23,
          24,
          25,
          26,
          27,
          28,
          29,
          30,
          31,
          32,
          33,
          34,
          35,
          36
         ],
         "xaxis": "x",
         "y": [
          0.93,
          16.89,
          26.57,
          33.63,
          44.47,
          44.88,
          43.96,
          43.34,
          46.59,
          47.31,
          49.19,
          50.42,
          52.85,
          51.87,
          51.81,
          47.29,
          40.96,
          39.26,
          37.03,
          31.77,
          36.3,
          35.76,
          39.36,
          40.23,
          46.14,
          47.45,
          51.24,
          54.16,
          56.15,
          55.65,
          57.1,
          56.2,
          58.33,
          58.58,
          60.96,
          60.42,
          61.38
         ],
         "yaxis": "y"
        },
        {
         "hovertemplate": "name=_tigfCJFLZg_00289<br>frame=%{x}<br>diff_pc=%{y}<extra></extra>",
         "legendgroup": "_tigfCJFLZg_00289",
         "line": {
          "color": "#636efa",
          "dash": "solid"
         },
         "mode": "lines",
         "name": "_tigfCJFLZg_00289",
         "showlegend": true,
         "type": "scattergl",
         "x": [
          0,
          1,
          2,
          3,
          4,
          5,
          6,
          7,
          8,
          9,
          10,
          11,
          12,
          13,
          14,
          15,
          16,
          17,
          18,
          19,
          20,
          21,
          22,
          23,
          24,
          25,
          26,
          27
         ],
         "xaxis": "x",
         "y": [
          10.57,
          12.64,
          25.43,
          25.41,
          25.63,
          17.77,
          19.16,
          22.66,
          23.38,
          24.84,
          23.64,
          23.38,
          25.73,
          26.07,
          26.52,
          25.65,
          25.54,
          24.07,
          24.6,
          24.78,
          26.98,
          28.54,
          28.53,
          29.4,
          33.29,
          39.85,
          38.91,
          41.47
         ],
         "yaxis": "y"
        },
        {
         "hovertemplate": "name=_tigfCJFLZg_00295<br>frame=%{x}<br>diff_pc=%{y}<extra></extra>",
         "legendgroup": "_tigfCJFLZg_00295",
         "line": {
          "color": "#EF553B",
          "dash": "solid"
         },
         "mode": "lines",
         "name": "_tigfCJFLZg_00295",
         "showlegend": true,
         "type": "scattergl",
         "x": [
          0,
          1,
          2,
          3,
          4,
          5,
          6,
          7,
          8,
          9,
          10,
          11,
          12,
          13,
          14,
          15,
          16,
          17,
          18,
          19,
          20,
          21,
          22,
          23
         ],
         "xaxis": "x",
         "y": [
          14.05,
          58.53,
          53.66,
          51.46,
          46.39,
          41.53,
          29.47,
          31.37,
          37.12,
          48.64,
          47.45,
          51.17,
          52.26,
          58.37,
          56.83,
          58.66,
          55.29,
          57.23,
          52.23,
          54.37,
          50.53,
          52.38,
          50.96,
          52.7
         ],
         "yaxis": "y"
        },
        {
         "hovertemplate": "name=_tigfCJFLZg_00298<br>frame=%{x}<br>diff_pc=%{y}<extra></extra>",
         "legendgroup": "_tigfCJFLZg_00298",
         "line": {
          "color": "#00cc96",
          "dash": "solid"
         },
         "mode": "lines",
         "name": "_tigfCJFLZg_00298",
         "showlegend": true,
         "type": "scattergl",
         "x": [
          0,
          1,
          2,
          3,
          4,
          5,
          6,
          7,
          8,
          9,
          10,
          11,
          12,
          13,
          14,
          15,
          16,
          17,
          18,
          19,
          20,
          21,
          22
         ],
         "xaxis": "x",
         "y": [
          11.09,
          66.44,
          70.7,
          87.99,
          90.87,
          89.14,
          85.06,
          81.51,
          85.04,
          86.49,
          88.45,
          86.19,
          88.18,
          87.68,
          87.01,
          84.97,
          86.55,
          87.48,
          88.6,
          89.86,
          88.43,
          89.35,
          87.33
         ],
         "yaxis": "y"
        },
        {
         "hovertemplate": "name=_tigfCJFLZg_00304<br>frame=%{x}<br>diff_pc=%{y}<extra></extra>",
         "legendgroup": "_tigfCJFLZg_00304",
         "line": {
          "color": "#ab63fa",
          "dash": "solid"
         },
         "mode": "lines",
         "name": "_tigfCJFLZg_00304",
         "showlegend": true,
         "type": "scattergl",
         "x": [
          0,
          1,
          2,
          3,
          4,
          5,
          6,
          7,
          8,
          9,
          10,
          11,
          12,
          13,
          14,
          15,
          16,
          17,
          18,
          19
         ],
         "xaxis": "x",
         "y": [
          0.56,
          4.68,
          4.68,
          42.43,
          78.87,
          74.07,
          85.07,
          82.18,
          89.08,
          85.56,
          90.1,
          91.44,
          92.04,
          92.36,
          93.86,
          92.69,
          93.21,
          89.84,
          86.13,
          88.08
         ],
         "yaxis": "y"
        },
        {
         "hovertemplate": "name=_tigfCJFLZg_00308<br>frame=%{x}<br>diff_pc=%{y}<extra></extra>",
         "legendgroup": "_tigfCJFLZg_00308",
         "line": {
          "color": "#FFA15A",
          "dash": "solid"
         },
         "mode": "lines",
         "name": "_tigfCJFLZg_00308",
         "showlegend": true,
         "type": "scattergl",
         "x": [
          0,
          1,
          2,
          3,
          4,
          5,
          6,
          7,
          8,
          9,
          10,
          11,
          12,
          13,
          14,
          15,
          16,
          17,
          18,
          19,
          20,
          21,
          22,
          23,
          24,
          25,
          26,
          27,
          28,
          29,
          30,
          31,
          32,
          33,
          34,
          35,
          36
         ],
         "xaxis": "x",
         "y": [
          1.53,
          11.24,
          39.47,
          82.89,
          93.61,
          95,
          95.89,
          92.98,
          98.91,
          99.44,
          99.37,
          99,
          98.27,
          97.81,
          98.22,
          97.78,
          93.56,
          96.52,
          96.82,
          97.02,
          97.22,
          97.19,
          96.37,
          96.71,
          96.63,
          97.43,
          96.69,
          96.07,
          94.94,
          94.86,
          95.6,
          96.2,
          96.58,
          93.89,
          89.39,
          17.63,
          21.15
         ],
         "yaxis": "y"
        },
        {
         "hovertemplate": "name=_tigfCJFLZg_00311<br>frame=%{x}<br>diff_pc=%{y}<extra></extra>",
         "legendgroup": "_tigfCJFLZg_00311",
         "line": {
          "color": "#19d3f3",
          "dash": "solid"
         },
         "mode": "lines",
         "name": "_tigfCJFLZg_00311",
         "showlegend": true,
         "type": "scattergl",
         "x": [
          0,
          1,
          2,
          3,
          4,
          5,
          6,
          7,
          8,
          9,
          10,
          11,
          12,
          13,
          14,
          15,
          16,
          17,
          18,
          19,
          20,
          21,
          22,
          23,
          24,
          25,
          26,
          27,
          28
         ],
         "xaxis": "x",
         "y": [
          3.22,
          3.82,
          10.38,
          10.47,
          13.2,
          20.04,
          20.74,
          31.6,
          34.84,
          41.75,
          43.5,
          48.59,
          49.75,
          51.71,
          53.6,
          56.57,
          54.35,
          58.39,
          55.73,
          57.15,
          52.09,
          51.85,
          48.38,
          46.46,
          45.74,
          46.4,
          44.44,
          43.69,
          38.88
         ],
         "yaxis": "y"
        },
        {
         "hovertemplate": "name=_tigfCJFLZg_00314<br>frame=%{x}<br>diff_pc=%{y}<extra></extra>",
         "legendgroup": "_tigfCJFLZg_00314",
         "line": {
          "color": "#FF6692",
          "dash": "solid"
         },
         "mode": "lines",
         "name": "_tigfCJFLZg_00314",
         "showlegend": true,
         "type": "scattergl",
         "x": [
          0,
          1,
          2,
          3,
          4,
          5,
          6,
          7,
          8,
          9,
          10,
          11,
          12,
          13,
          14,
          15,
          16
         ],
         "xaxis": "x",
         "y": [
          3.87,
          4.39,
          13.36,
          14.61,
          13.93,
          14.4,
          12.33,
          13.67,
          13.71,
          16.24,
          17.37,
          19.53,
          19.81,
          22.26,
          22.06,
          22.62,
          22.96
         ],
         "yaxis": "y"
        },
        {
         "hovertemplate": "name=_tigfCJFLZg_00317<br>frame=%{x}<br>diff_pc=%{y}<extra></extra>",
         "legendgroup": "_tigfCJFLZg_00317",
         "line": {
          "color": "#B6E880",
          "dash": "solid"
         },
         "mode": "lines",
         "name": "_tigfCJFLZg_00317",
         "showlegend": true,
         "type": "scattergl",
         "x": [
          0,
          1,
          2,
          3,
          4,
          5,
          6,
          7,
          8,
          9,
          10,
          11,
          12,
          13,
          14,
          15,
          16,
          17,
          18,
          19,
          20,
          21,
          22,
          23,
          24,
          25,
          26,
          27,
          28,
          29
         ],
         "xaxis": "x",
         "y": [
          7.81,
          37.25,
          62.26,
          75.09,
          62.24,
          44.77,
          28.16,
          24.51,
          34.15,
          50.55,
          60.23,
          59.46,
          64.42,
          65.54,
          70.21,
          68.74,
          52.52,
          50.44,
          55.39,
          51.11,
          49.42,
          47.18,
          42.54,
          36.27,
          52.9,
          50.27,
          48,
          25.96,
          35.71,
          32.2
         ],
         "yaxis": "y"
        },
        {
         "hovertemplate": "name=_tigfCJFLZg_00320<br>frame=%{x}<br>diff_pc=%{y}<extra></extra>",
         "legendgroup": "_tigfCJFLZg_00320",
         "line": {
          "color": "#FF97FF",
          "dash": "solid"
         },
         "mode": "lines",
         "name": "_tigfCJFLZg_00320",
         "showlegend": true,
         "type": "scattergl",
         "x": [
          0,
          1,
          2,
          3,
          4,
          5,
          6,
          7,
          8,
          9,
          10
         ],
         "xaxis": "x",
         "y": [
          0,
          0,
          0,
          0,
          7.2,
          50.67,
          75.21,
          83.59,
          59.63,
          79.17,
          65.88
         ],
         "yaxis": "y"
        },
        {
         "hovertemplate": "name=_tigfCJFLZg_00329<br>frame=%{x}<br>diff_pc=%{y}<extra></extra>",
         "legendgroup": "_tigfCJFLZg_00329",
         "line": {
          "color": "#FECB52",
          "dash": "solid"
         },
         "mode": "lines",
         "name": "_tigfCJFLZg_00329",
         "showlegend": true,
         "type": "scattergl",
         "x": [
          0,
          1,
          2,
          3,
          4,
          5,
          6,
          7,
          8,
          9,
          10,
          11,
          12,
          13,
          14,
          15,
          16,
          17
         ],
         "xaxis": "x",
         "y": [
          2.19,
          47.64,
          97.59,
          94.79,
          90.05,
          83.69,
          54.32,
          34.9,
          60.69,
          76.14,
          76.83,
          84.07,
          85.16,
          87.57,
          88.7,
          88.54,
          87.82,
          87.82
         ],
         "yaxis": "y"
        },
        {
         "hovertemplate": "name=_tigfCJFLZg_00340<br>frame=%{x}<br>diff_pc=%{y}<extra></extra>",
         "legendgroup": "_tigfCJFLZg_00340",
         "line": {
          "color": "#636efa",
          "dash": "solid"
         },
         "mode": "lines",
         "name": "_tigfCJFLZg_00340",
         "showlegend": true,
         "type": "scattergl",
         "x": [
          0,
          1,
          2,
          3,
          4,
          5,
          6,
          7,
          8,
          9,
          10,
          11,
          12,
          13,
          14,
          15,
          16,
          17,
          18,
          19,
          20,
          21
         ],
         "xaxis": "x",
         "y": [
          3.02,
          45.33,
          65.04,
          81.2,
          87.77,
          71.79,
          73.43,
          89.49,
          86.96,
          83.72,
          90.84,
          90.91,
          91.06,
          91.84,
          89.1,
          91.09,
          88.65,
          88.52,
          82.78,
          82.06,
          81.49,
          81.1
         ],
         "yaxis": "y"
        },
        {
         "hovertemplate": "name=_tigfCJFLZg_00348<br>frame=%{x}<br>diff_pc=%{y}<extra></extra>",
         "legendgroup": "_tigfCJFLZg_00348",
         "line": {
          "color": "#EF553B",
          "dash": "solid"
         },
         "mode": "lines",
         "name": "_tigfCJFLZg_00348",
         "showlegend": true,
         "type": "scattergl",
         "x": [
          0,
          1,
          2,
          3,
          4,
          5,
          6,
          7,
          8,
          9,
          10,
          11,
          12,
          13,
          14,
          15,
          16,
          17,
          18,
          19,
          20,
          21,
          22,
          23,
          24,
          25,
          26,
          27,
          28,
          29,
          30,
          31,
          32,
          33,
          34,
          35,
          36,
          37,
          38,
          39,
          40,
          41
         ],
         "xaxis": "x",
         "y": [
          3.48,
          14.98,
          17.68,
          43.84,
          45.92,
          67.21,
          67.99,
          75.79,
          73.84,
          74.99,
          76.15,
          78.4,
          76.69,
          80.34,
          77.86,
          80.37,
          78.12,
          78.83,
          75.91,
          76.85,
          76.22,
          73.64,
          74.38,
          76.77,
          79.2,
          79.6,
          77.66,
          77.66,
          78.28,
          75.84,
          75.88,
          78.69,
          82.22,
          81.3,
          84.52,
          84.55,
          86.65,
          85.17,
          87.31,
          86.28,
          88.77,
          88.16
         ],
         "yaxis": "y"
        },
        {
         "hovertemplate": "name=_tigfCJFLZg_00351<br>frame=%{x}<br>diff_pc=%{y}<extra></extra>",
         "legendgroup": "_tigfCJFLZg_00351",
         "line": {
          "color": "#00cc96",
          "dash": "solid"
         },
         "mode": "lines",
         "name": "_tigfCJFLZg_00351",
         "showlegend": true,
         "type": "scattergl",
         "x": [
          0,
          1,
          2,
          3,
          4,
          5,
          6,
          7,
          8,
          9,
          10,
          11,
          12,
          13,
          14,
          15,
          16,
          17,
          18,
          19,
          20,
          21,
          22,
          23,
          24,
          25,
          26
         ],
         "xaxis": "x",
         "y": [
          0.75,
          4.77,
          7.99,
          15.55,
          27.74,
          31.89,
          33.71,
          48.61,
          61.61,
          71.96,
          80.7,
          75.34,
          76.08,
          76.45,
          76.43,
          75.92,
          76.57,
          75.15,
          72.75,
          74.67,
          72.85,
          75.67,
          74.09,
          76.19,
          74.97,
          76.84,
          74.25
         ],
         "yaxis": "y"
        },
        {
         "hovertemplate": "name=_tigfCJFLZg_00353<br>frame=%{x}<br>diff_pc=%{y}<extra></extra>",
         "legendgroup": "_tigfCJFLZg_00353",
         "line": {
          "color": "#ab63fa",
          "dash": "solid"
         },
         "mode": "lines",
         "name": "_tigfCJFLZg_00353",
         "showlegend": true,
         "type": "scattergl",
         "x": [
          0,
          1,
          2,
          3,
          4,
          5,
          6,
          7,
          8,
          9,
          10,
          11,
          12,
          13,
          14,
          15,
          16,
          17,
          18,
          19,
          20,
          21,
          22,
          23,
          24,
          25,
          26,
          27,
          28,
          29,
          30
         ],
         "xaxis": "x",
         "y": [
          1.66,
          0,
          0,
          4.96,
          11.58,
          40.53,
          51.78,
          52.63,
          41.3,
          38.93,
          30.88,
          21.19,
          33.41,
          40.88,
          48.71,
          51.9,
          57.53,
          63.08,
          63.89,
          66.85,
          65.49,
          65.35,
          62.86,
          60.25,
          62.52,
          60.16,
          56.9,
          58.35,
          59.57,
          62.08,
          64.8
         ],
         "yaxis": "y"
        },
        {
         "hovertemplate": "name=_tigfCJFLZg_00354<br>frame=%{x}<br>diff_pc=%{y}<extra></extra>",
         "legendgroup": "_tigfCJFLZg_00354",
         "line": {
          "color": "#FFA15A",
          "dash": "solid"
         },
         "mode": "lines",
         "name": "_tigfCJFLZg_00354",
         "showlegend": true,
         "type": "scattergl",
         "x": [
          0,
          1,
          2,
          3,
          4,
          5,
          6,
          7,
          8,
          9,
          10,
          11,
          12,
          13,
          14,
          15,
          16,
          17,
          18,
          19,
          20,
          21,
          22,
          23,
          24,
          25,
          26,
          27,
          28,
          29,
          30,
          31,
          32,
          33,
          34,
          35,
          36,
          37,
          38,
          39
         ],
         "xaxis": "x",
         "y": [
          0.84,
          6.82,
          10.56,
          4.14,
          13.45,
          29.16,
          40.33,
          35.4,
          61.99,
          70.78,
          79.86,
          76.2,
          75.04,
          68.24,
          69.26,
          66.21,
          64.55,
          61.59,
          59.88,
          52.56,
          52.78,
          45.33,
          44.37,
          40.71,
          43.62,
          42.94,
          45.01,
          48.85,
          53.77,
          55.86,
          60.08,
          60.41,
          65.44,
          66.19,
          71.65,
          73.26,
          74.69,
          74.04,
          75.09,
          76.35
         ],
         "yaxis": "y"
        },
        {
         "hovertemplate": "name=_tigfCJFLZg_00357<br>frame=%{x}<br>diff_pc=%{y}<extra></extra>",
         "legendgroup": "_tigfCJFLZg_00357",
         "line": {
          "color": "#19d3f3",
          "dash": "solid"
         },
         "mode": "lines",
         "name": "_tigfCJFLZg_00357",
         "showlegend": true,
         "type": "scattergl",
         "x": [
          0,
          1,
          2,
          3,
          4,
          5,
          6,
          7,
          8,
          9,
          10,
          11,
          12,
          13,
          14,
          15,
          16,
          17,
          18,
          19,
          20,
          21,
          22,
          23,
          24,
          25,
          26,
          27,
          28,
          29,
          30,
          31
         ],
         "xaxis": "x",
         "y": [
          17.55,
          27.06,
          36.87,
          44.3,
          35.84,
          38.01,
          46.04,
          46.26,
          64.46,
          81.91,
          90.89,
          94.31,
          94.47,
          94.74,
          95.28,
          95.42,
          95.54,
          95.74,
          94.87,
          94.68,
          93.59,
          93.21,
          91.38,
          90.61,
          88.59,
          88.94,
          88.44,
          88.42,
          86.87,
          88.49,
          88.08,
          86.71
         ],
         "yaxis": "y"
        },
        {
         "hovertemplate": "name=_tigfCJFLZg_00366<br>frame=%{x}<br>diff_pc=%{y}<extra></extra>",
         "legendgroup": "_tigfCJFLZg_00366",
         "line": {
          "color": "#FF6692",
          "dash": "solid"
         },
         "mode": "lines",
         "name": "_tigfCJFLZg_00366",
         "showlegend": true,
         "type": "scattergl",
         "x": [
          0,
          1,
          2,
          3,
          4,
          5,
          6,
          7,
          8,
          9,
          10,
          11,
          12
         ],
         "xaxis": "x",
         "y": [
          0.5,
          16.16,
          62.71,
          80.1,
          85.39,
          81.98,
          85.14,
          83.5,
          81.58,
          76.01,
          80.53,
          81.95,
          82.52
         ],
         "yaxis": "y"
        },
        {
         "hovertemplate": "name=_tigfCJFLZg_00377<br>frame=%{x}<br>diff_pc=%{y}<extra></extra>",
         "legendgroup": "_tigfCJFLZg_00377",
         "line": {
          "color": "#B6E880",
          "dash": "solid"
         },
         "mode": "lines",
         "name": "_tigfCJFLZg_00377",
         "showlegend": true,
         "type": "scattergl",
         "x": [
          0,
          1,
          2,
          3,
          4,
          5,
          6,
          7,
          8,
          9,
          10,
          11,
          12,
          13,
          14,
          15,
          16,
          17,
          18,
          19,
          20,
          21,
          22,
          23,
          24,
          25,
          26,
          27,
          28,
          29,
          30,
          31,
          32,
          33,
          34,
          35,
          36,
          37,
          38
         ],
         "xaxis": "x",
         "y": [
          1.22,
          1.7,
          1.59,
          1.14,
          2.54,
          3.09,
          4.01,
          5.27,
          9.1,
          10.49,
          12.48,
          13.29,
          15.68,
          18.03,
          19.42,
          20.89,
          18.12,
          18.15,
          17.45,
          18.15,
          14.51,
          14.86,
          14.38,
          14.85,
          13.13,
          13.15,
          10.62,
          10.09,
          9.31,
          9.8,
          11.13,
          11.99,
          13.04,
          13.96,
          15.42,
          17.23,
          18.63,
          20.9,
          23.04
         ],
         "yaxis": "y"
        },
        {
         "hovertemplate": "name=_tigfCJFLZg_00380<br>frame=%{x}<br>diff_pc=%{y}<extra></extra>",
         "legendgroup": "_tigfCJFLZg_00380",
         "line": {
          "color": "#FF97FF",
          "dash": "solid"
         },
         "mode": "lines",
         "name": "_tigfCJFLZg_00380",
         "showlegend": true,
         "type": "scattergl",
         "x": [
          0,
          1,
          2,
          3,
          4,
          5,
          6,
          7,
          8,
          9,
          10,
          11,
          12,
          13,
          14,
          15,
          16,
          17,
          18,
          19,
          20,
          21,
          22,
          23,
          24,
          25,
          26,
          27,
          28,
          29,
          30,
          31,
          32,
          33,
          34,
          35,
          36,
          37,
          38,
          39,
          40
         ],
         "xaxis": "x",
         "y": [
          1.24,
          0.7,
          1.39,
          3.4,
          3.6,
          4.85,
          8.83,
          10.37,
          12.19,
          13.76,
          15.25,
          16.32,
          17.72,
          17.11,
          15.71,
          17.6,
          16.76,
          17.06,
          18.36,
          19.1,
          17.13,
          16.93,
          16.47,
          14.67,
          14.8,
          13.77,
          13.77,
          14.8,
          20.03,
          21.5,
          22.61,
          24,
          25.27,
          26.74,
          28.18,
          30.05,
          29.49,
          29.59,
          30.25,
          30.23,
          30.21
         ],
         "yaxis": "y"
        },
        {
         "hovertemplate": "name=_tigfCJFLZg_00390<br>frame=%{x}<br>diff_pc=%{y}<extra></extra>",
         "legendgroup": "_tigfCJFLZg_00390",
         "line": {
          "color": "#FECB52",
          "dash": "solid"
         },
         "mode": "lines",
         "name": "_tigfCJFLZg_00390",
         "showlegend": true,
         "type": "scattergl",
         "x": [
          0,
          1,
          2,
          3,
          4,
          5,
          6,
          7,
          8,
          9,
          10,
          11,
          12,
          13,
          14,
          15,
          16,
          17,
          18,
          19,
          20,
          21,
          22,
          23,
          24,
          25,
          26,
          27,
          28,
          29,
          30,
          31,
          32,
          33,
          34,
          35,
          36,
          37,
          38,
          39
         ],
         "xaxis": "x",
         "y": [
          2.66,
          6.46,
          10.88,
          13.32,
          20.73,
          24.45,
          32.7,
          54.77,
          74.41,
          77.78,
          72.56,
          69.12,
          76.68,
          68.9,
          63.73,
          58.85,
          58.08,
          57.42,
          59.63,
          59.42,
          59.57,
          52.83,
          52.33,
          49.82,
          51.71,
          50.51,
          56.04,
          56.46,
          60.69,
          62.73,
          66.86,
          67.64,
          70.52,
          69.56,
          70.9,
          67.94,
          71.33,
          69.88,
          69.92,
          73.22
         ],
         "yaxis": "y"
        },
        {
         "hovertemplate": "name=_tigfCJFLZg_00393<br>frame=%{x}<br>diff_pc=%{y}<extra></extra>",
         "legendgroup": "_tigfCJFLZg_00393",
         "line": {
          "color": "#636efa",
          "dash": "solid"
         },
         "mode": "lines",
         "name": "_tigfCJFLZg_00393",
         "showlegend": true,
         "type": "scattergl",
         "x": [
          0,
          1,
          2,
          3,
          4,
          5,
          6,
          7,
          8,
          9,
          10,
          11,
          12,
          13,
          14,
          15,
          16,
          17,
          18,
          19,
          20,
          21,
          22,
          23,
          24,
          25,
          26,
          27,
          28,
          29,
          30,
          31,
          32,
          33,
          34,
          35,
          36,
          37,
          38,
          39
         ],
         "xaxis": "x",
         "y": [
          2,
          2.03,
          7.04,
          9.55,
          21.27,
          22.26,
          32.69,
          38.42,
          42.41,
          40.86,
          54.07,
          77.85,
          84.28,
          75.1,
          63.57,
          56.01,
          55.3,
          50.08,
          49.19,
          34.01,
          43.05,
          58.86,
          58.91,
          69.39,
          75.01,
          77.31,
          77.42,
          77.49,
          78.01,
          78.51,
          79.25,
          79.27,
          81.31,
          84.02,
          84.48,
          86.59,
          88.87,
          91.08,
          91.74,
          93.83
         ],
         "yaxis": "y"
        }
       ],
       "layout": {
        "legend": {
         "title": {
          "text": "name"
         },
         "tracegroupgap": 0
        },
        "template": {
         "data": {
          "bar": [
           {
            "error_x": {
             "color": "#2a3f5f"
            },
            "error_y": {
             "color": "#2a3f5f"
            },
            "marker": {
             "line": {
              "color": "#E5ECF6",
              "width": 0.5
             },
             "pattern": {
              "fillmode": "overlay",
              "size": 10,
              "solidity": 0.2
             }
            },
            "type": "bar"
           }
          ],
          "barpolar": [
           {
            "marker": {
             "line": {
              "color": "#E5ECF6",
              "width": 0.5
             },
             "pattern": {
              "fillmode": "overlay",
              "size": 10,
              "solidity": 0.2
             }
            },
            "type": "barpolar"
           }
          ],
          "carpet": [
           {
            "aaxis": {
             "endlinecolor": "#2a3f5f",
             "gridcolor": "white",
             "linecolor": "white",
             "minorgridcolor": "white",
             "startlinecolor": "#2a3f5f"
            },
            "baxis": {
             "endlinecolor": "#2a3f5f",
             "gridcolor": "white",
             "linecolor": "white",
             "minorgridcolor": "white",
             "startlinecolor": "#2a3f5f"
            },
            "type": "carpet"
           }
          ],
          "choropleth": [
           {
            "colorbar": {
             "outlinewidth": 0,
             "ticks": ""
            },
            "type": "choropleth"
           }
          ],
          "contour": [
           {
            "colorbar": {
             "outlinewidth": 0,
             "ticks": ""
            },
            "colorscale": [
             [
              0,
              "#0d0887"
             ],
             [
              0.1111111111111111,
              "#46039f"
             ],
             [
              0.2222222222222222,
              "#7201a8"
             ],
             [
              0.3333333333333333,
              "#9c179e"
             ],
             [
              0.4444444444444444,
              "#bd3786"
             ],
             [
              0.5555555555555556,
              "#d8576b"
             ],
             [
              0.6666666666666666,
              "#ed7953"
             ],
             [
              0.7777777777777778,
              "#fb9f3a"
             ],
             [
              0.8888888888888888,
              "#fdca26"
             ],
             [
              1,
              "#f0f921"
             ]
            ],
            "type": "contour"
           }
          ],
          "contourcarpet": [
           {
            "colorbar": {
             "outlinewidth": 0,
             "ticks": ""
            },
            "type": "contourcarpet"
           }
          ],
          "heatmap": [
           {
            "colorbar": {
             "outlinewidth": 0,
             "ticks": ""
            },
            "colorscale": [
             [
              0,
              "#0d0887"
             ],
             [
              0.1111111111111111,
              "#46039f"
             ],
             [
              0.2222222222222222,
              "#7201a8"
             ],
             [
              0.3333333333333333,
              "#9c179e"
             ],
             [
              0.4444444444444444,
              "#bd3786"
             ],
             [
              0.5555555555555556,
              "#d8576b"
             ],
             [
              0.6666666666666666,
              "#ed7953"
             ],
             [
              0.7777777777777778,
              "#fb9f3a"
             ],
             [
              0.8888888888888888,
              "#fdca26"
             ],
             [
              1,
              "#f0f921"
             ]
            ],
            "type": "heatmap"
           }
          ],
          "heatmapgl": [
           {
            "colorbar": {
             "outlinewidth": 0,
             "ticks": ""
            },
            "colorscale": [
             [
              0,
              "#0d0887"
             ],
             [
              0.1111111111111111,
              "#46039f"
             ],
             [
              0.2222222222222222,
              "#7201a8"
             ],
             [
              0.3333333333333333,
              "#9c179e"
             ],
             [
              0.4444444444444444,
              "#bd3786"
             ],
             [
              0.5555555555555556,
              "#d8576b"
             ],
             [
              0.6666666666666666,
              "#ed7953"
             ],
             [
              0.7777777777777778,
              "#fb9f3a"
             ],
             [
              0.8888888888888888,
              "#fdca26"
             ],
             [
              1,
              "#f0f921"
             ]
            ],
            "type": "heatmapgl"
           }
          ],
          "histogram": [
           {
            "marker": {
             "pattern": {
              "fillmode": "overlay",
              "size": 10,
              "solidity": 0.2
             }
            },
            "type": "histogram"
           }
          ],
          "histogram2d": [
           {
            "colorbar": {
             "outlinewidth": 0,
             "ticks": ""
            },
            "colorscale": [
             [
              0,
              "#0d0887"
             ],
             [
              0.1111111111111111,
              "#46039f"
             ],
             [
              0.2222222222222222,
              "#7201a8"
             ],
             [
              0.3333333333333333,
              "#9c179e"
             ],
             [
              0.4444444444444444,
              "#bd3786"
             ],
             [
              0.5555555555555556,
              "#d8576b"
             ],
             [
              0.6666666666666666,
              "#ed7953"
             ],
             [
              0.7777777777777778,
              "#fb9f3a"
             ],
             [
              0.8888888888888888,
              "#fdca26"
             ],
             [
              1,
              "#f0f921"
             ]
            ],
            "type": "histogram2d"
           }
          ],
          "histogram2dcontour": [
           {
            "colorbar": {
             "outlinewidth": 0,
             "ticks": ""
            },
            "colorscale": [
             [
              0,
              "#0d0887"
             ],
             [
              0.1111111111111111,
              "#46039f"
             ],
             [
              0.2222222222222222,
              "#7201a8"
             ],
             [
              0.3333333333333333,
              "#9c179e"
             ],
             [
              0.4444444444444444,
              "#bd3786"
             ],
             [
              0.5555555555555556,
              "#d8576b"
             ],
             [
              0.6666666666666666,
              "#ed7953"
             ],
             [
              0.7777777777777778,
              "#fb9f3a"
             ],
             [
              0.8888888888888888,
              "#fdca26"
             ],
             [
              1,
              "#f0f921"
             ]
            ],
            "type": "histogram2dcontour"
           }
          ],
          "mesh3d": [
           {
            "colorbar": {
             "outlinewidth": 0,
             "ticks": ""
            },
            "type": "mesh3d"
           }
          ],
          "parcoords": [
           {
            "line": {
             "colorbar": {
              "outlinewidth": 0,
              "ticks": ""
             }
            },
            "type": "parcoords"
           }
          ],
          "pie": [
           {
            "automargin": true,
            "type": "pie"
           }
          ],
          "scatter": [
           {
            "marker": {
             "colorbar": {
              "outlinewidth": 0,
              "ticks": ""
             }
            },
            "type": "scatter"
           }
          ],
          "scatter3d": [
           {
            "line": {
             "colorbar": {
              "outlinewidth": 0,
              "ticks": ""
             }
            },
            "marker": {
             "colorbar": {
              "outlinewidth": 0,
              "ticks": ""
             }
            },
            "type": "scatter3d"
           }
          ],
          "scattercarpet": [
           {
            "marker": {
             "colorbar": {
              "outlinewidth": 0,
              "ticks": ""
             }
            },
            "type": "scattercarpet"
           }
          ],
          "scattergeo": [
           {
            "marker": {
             "colorbar": {
              "outlinewidth": 0,
              "ticks": ""
             }
            },
            "type": "scattergeo"
           }
          ],
          "scattergl": [
           {
            "marker": {
             "colorbar": {
              "outlinewidth": 0,
              "ticks": ""
             }
            },
            "type": "scattergl"
           }
          ],
          "scattermapbox": [
           {
            "marker": {
             "colorbar": {
              "outlinewidth": 0,
              "ticks": ""
             }
            },
            "type": "scattermapbox"
           }
          ],
          "scatterpolar": [
           {
            "marker": {
             "colorbar": {
              "outlinewidth": 0,
              "ticks": ""
             }
            },
            "type": "scatterpolar"
           }
          ],
          "scatterpolargl": [
           {
            "marker": {
             "colorbar": {
              "outlinewidth": 0,
              "ticks": ""
             }
            },
            "type": "scatterpolargl"
           }
          ],
          "scatterternary": [
           {
            "marker": {
             "colorbar": {
              "outlinewidth": 0,
              "ticks": ""
             }
            },
            "type": "scatterternary"
           }
          ],
          "surface": [
           {
            "colorbar": {
             "outlinewidth": 0,
             "ticks": ""
            },
            "colorscale": [
             [
              0,
              "#0d0887"
             ],
             [
              0.1111111111111111,
              "#46039f"
             ],
             [
              0.2222222222222222,
              "#7201a8"
             ],
             [
              0.3333333333333333,
              "#9c179e"
             ],
             [
              0.4444444444444444,
              "#bd3786"
             ],
             [
              0.5555555555555556,
              "#d8576b"
             ],
             [
              0.6666666666666666,
              "#ed7953"
             ],
             [
              0.7777777777777778,
              "#fb9f3a"
             ],
             [
              0.8888888888888888,
              "#fdca26"
             ],
             [
              1,
              "#f0f921"
             ]
            ],
            "type": "surface"
           }
          ],
          "table": [
           {
            "cells": {
             "fill": {
              "color": "#EBF0F8"
             },
             "line": {
              "color": "white"
             }
            },
            "header": {
             "fill": {
              "color": "#C8D4E3"
             },
             "line": {
              "color": "white"
             }
            },
            "type": "table"
           }
          ]
         },
         "layout": {
          "annotationdefaults": {
           "arrowcolor": "#2a3f5f",
           "arrowhead": 0,
           "arrowwidth": 1
          },
          "autotypenumbers": "strict",
          "coloraxis": {
           "colorbar": {
            "outlinewidth": 0,
            "ticks": ""
           }
          },
          "colorscale": {
           "diverging": [
            [
             0,
             "#8e0152"
            ],
            [
             0.1,
             "#c51b7d"
            ],
            [
             0.2,
             "#de77ae"
            ],
            [
             0.3,
             "#f1b6da"
            ],
            [
             0.4,
             "#fde0ef"
            ],
            [
             0.5,
             "#f7f7f7"
            ],
            [
             0.6,
             "#e6f5d0"
            ],
            [
             0.7,
             "#b8e186"
            ],
            [
             0.8,
             "#7fbc41"
            ],
            [
             0.9,
             "#4d9221"
            ],
            [
             1,
             "#276419"
            ]
           ],
           "sequential": [
            [
             0,
             "#0d0887"
            ],
            [
             0.1111111111111111,
             "#46039f"
            ],
            [
             0.2222222222222222,
             "#7201a8"
            ],
            [
             0.3333333333333333,
             "#9c179e"
            ],
            [
             0.4444444444444444,
             "#bd3786"
            ],
            [
             0.5555555555555556,
             "#d8576b"
            ],
            [
             0.6666666666666666,
             "#ed7953"
            ],
            [
             0.7777777777777778,
             "#fb9f3a"
            ],
            [
             0.8888888888888888,
             "#fdca26"
            ],
            [
             1,
             "#f0f921"
            ]
           ],
           "sequentialminus": [
            [
             0,
             "#0d0887"
            ],
            [
             0.1111111111111111,
             "#46039f"
            ],
            [
             0.2222222222222222,
             "#7201a8"
            ],
            [
             0.3333333333333333,
             "#9c179e"
            ],
            [
             0.4444444444444444,
             "#bd3786"
            ],
            [
             0.5555555555555556,
             "#d8576b"
            ],
            [
             0.6666666666666666,
             "#ed7953"
            ],
            [
             0.7777777777777778,
             "#fb9f3a"
            ],
            [
             0.8888888888888888,
             "#fdca26"
            ],
            [
             1,
             "#f0f921"
            ]
           ]
          },
          "colorway": [
           "#636efa",
           "#EF553B",
           "#00cc96",
           "#ab63fa",
           "#FFA15A",
           "#19d3f3",
           "#FF6692",
           "#B6E880",
           "#FF97FF",
           "#FECB52"
          ],
          "font": {
           "color": "#2a3f5f"
          },
          "geo": {
           "bgcolor": "white",
           "lakecolor": "white",
           "landcolor": "#E5ECF6",
           "showlakes": true,
           "showland": true,
           "subunitcolor": "white"
          },
          "hoverlabel": {
           "align": "left"
          },
          "hovermode": "closest",
          "mapbox": {
           "style": "light"
          },
          "paper_bgcolor": "white",
          "plot_bgcolor": "#E5ECF6",
          "polar": {
           "angularaxis": {
            "gridcolor": "white",
            "linecolor": "white",
            "ticks": ""
           },
           "bgcolor": "#E5ECF6",
           "radialaxis": {
            "gridcolor": "white",
            "linecolor": "white",
            "ticks": ""
           }
          },
          "scene": {
           "xaxis": {
            "backgroundcolor": "#E5ECF6",
            "gridcolor": "white",
            "gridwidth": 2,
            "linecolor": "white",
            "showbackground": true,
            "ticks": "",
            "zerolinecolor": "white"
           },
           "yaxis": {
            "backgroundcolor": "#E5ECF6",
            "gridcolor": "white",
            "gridwidth": 2,
            "linecolor": "white",
            "showbackground": true,
            "ticks": "",
            "zerolinecolor": "white"
           },
           "zaxis": {
            "backgroundcolor": "#E5ECF6",
            "gridcolor": "white",
            "gridwidth": 2,
            "linecolor": "white",
            "showbackground": true,
            "ticks": "",
            "zerolinecolor": "white"
           }
          },
          "shapedefaults": {
           "line": {
            "color": "#2a3f5f"
           }
          },
          "ternary": {
           "aaxis": {
            "gridcolor": "white",
            "linecolor": "white",
            "ticks": ""
           },
           "baxis": {
            "gridcolor": "white",
            "linecolor": "white",
            "ticks": ""
           },
           "bgcolor": "#E5ECF6",
           "caxis": {
            "gridcolor": "white",
            "linecolor": "white",
            "ticks": ""
           }
          },
          "title": {
           "x": 0.05
          },
          "xaxis": {
           "automargin": true,
           "gridcolor": "white",
           "linecolor": "white",
           "ticks": "",
           "title": {
            "standoff": 15
           },
           "zerolinecolor": "white",
           "zerolinewidth": 2
          },
          "yaxis": {
           "automargin": true,
           "gridcolor": "white",
           "linecolor": "white",
           "ticks": "",
           "title": {
            "standoff": 15
           },
           "zerolinecolor": "white",
           "zerolinewidth": 2
          }
         }
        },
        "title": {
         "text": "Too many labeled pixels (outside roi) in % per frame"
        },
        "xaxis": {
         "anchor": "y",
         "domain": [
          0,
          1
         ],
         "title": {
          "text": "frame"
         }
        },
        "yaxis": {
         "anchor": "x",
         "domain": [
          0,
          1
         ],
         "title": {
          "text": "diff_pc"
         }
        }
       }
      }
     },
     "metadata": {}
    }
   ],
   "source": [
    "fig = px.line(frame.reset_index(), x=\"frame\", y=\"diff_pc\",color=\"name\",title=\"Too many labeled pixels (outside roi) in % per frame\")\n",
    "fig.show()"
   ]
  },
  {
   "cell_type": "code",
   "execution_count": 6,
   "metadata": {},
   "outputs": [
    {
     "output_type": "display_data",
     "data": {
      "application/vnd.plotly.v1+json": {
       "config": {
        "plotlyServerURL": "https://plot.ly"
       },
       "data": [
        {
         "alignmentgroup": "True",
         "bingroup": "x",
         "histfunc": "sum",
         "hovertemplate": "name=%{x}<br>sum of diff_pc=%{y}<extra></extra>",
         "legendgroup": "_tigfCJFLZg_00160",
         "marker": {
          "color": "#636efa",
          "pattern": {
           "shape": ""
          }
         },
         "name": "_tigfCJFLZg_00160",
         "offsetgroup": "_tigfCJFLZg_00160",
         "orientation": "v",
         "showlegend": true,
         "type": "histogram",
         "x": [
          "_tigfCJFLZg_00160"
         ],
         "xaxis": "x",
         "y": [
          8.737894736842104
         ],
         "yaxis": "y"
        },
        {
         "alignmentgroup": "True",
         "bingroup": "x",
         "histfunc": "sum",
         "hovertemplate": "name=%{x}<br>sum of diff_pc=%{y}<extra></extra>",
         "legendgroup": "_tigfCJFLZg_00377",
         "marker": {
          "color": "#EF553B",
          "pattern": {
           "shape": ""
          }
         },
         "name": "_tigfCJFLZg_00377",
         "offsetgroup": "_tigfCJFLZg_00377",
         "orientation": "v",
         "showlegend": true,
         "type": "histogram",
         "x": [
          "_tigfCJFLZg_00377"
         ],
         "xaxis": "x",
         "y": [
          12.355128205128207
         ],
         "yaxis": "y"
        },
        {
         "alignmentgroup": "True",
         "bingroup": "x",
         "histfunc": "sum",
         "hovertemplate": "name=%{x}<br>sum of diff_pc=%{y}<extra></extra>",
         "legendgroup": "_tigfCJFLZg_00314",
         "marker": {
          "color": "#00cc96",
          "pattern": {
           "shape": ""
          }
         },
         "name": "_tigfCJFLZg_00314",
         "offsetgroup": "_tigfCJFLZg_00314",
         "orientation": "v",
         "showlegend": true,
         "type": "histogram",
         "x": [
          "_tigfCJFLZg_00314"
         ],
         "xaxis": "x",
         "y": [
          15.712941176470588
         ],
         "yaxis": "y"
        },
        {
         "alignmentgroup": "True",
         "bingroup": "x",
         "histfunc": "sum",
         "hovertemplate": "name=%{x}<br>sum of diff_pc=%{y}<extra></extra>",
         "legendgroup": "_tigfCJFLZg_00380",
         "marker": {
          "color": "#ab63fa",
          "pattern": {
           "shape": ""
          }
         },
         "name": "_tigfCJFLZg_00380",
         "offsetgroup": "_tigfCJFLZg_00380",
         "orientation": "v",
         "showlegend": true,
         "type": "histogram",
         "x": [
          "_tigfCJFLZg_00380"
         ],
         "xaxis": "x",
         "y": [
          17.11731707317073
         ],
         "yaxis": "y"
        },
        {
         "alignmentgroup": "True",
         "bingroup": "x",
         "histfunc": "sum",
         "hovertemplate": "name=%{x}<br>sum of diff_pc=%{y}<extra></extra>",
         "legendgroup": "_tigfCJFLZg_00289",
         "marker": {
          "color": "#FFA15A",
          "pattern": {
           "shape": ""
          }
         },
         "name": "_tigfCJFLZg_00289",
         "offsetgroup": "_tigfCJFLZg_00289",
         "orientation": "v",
         "showlegend": true,
         "type": "histogram",
         "x": [
          "_tigfCJFLZg_00289"
         ],
         "xaxis": "x",
         "y": [
          25.87285714285714
         ],
         "yaxis": "y"
        },
        {
         "alignmentgroup": "True",
         "bingroup": "x",
         "histfunc": "sum",
         "hovertemplate": "name=%{x}<br>sum of diff_pc=%{y}<extra></extra>",
         "legendgroup": "_tigfCJFLZg_00157",
         "marker": {
          "color": "#19d3f3",
          "pattern": {
           "shape": ""
          }
         },
         "name": "_tigfCJFLZg_00157",
         "offsetgroup": "_tigfCJFLZg_00157",
         "orientation": "v",
         "showlegend": true,
         "type": "histogram",
         "x": [
          "_tigfCJFLZg_00157"
         ],
         "xaxis": "x",
         "y": [
          25.968571428571433
         ],
         "yaxis": "y"
        },
        {
         "alignmentgroup": "True",
         "bingroup": "x",
         "histfunc": "sum",
         "hovertemplate": "name=%{x}<br>sum of diff_pc=%{y}<extra></extra>",
         "legendgroup": "_tigfCJFLZg_00203",
         "marker": {
          "color": "#FF6692",
          "pattern": {
           "shape": ""
          }
         },
         "name": "_tigfCJFLZg_00203",
         "offsetgroup": "_tigfCJFLZg_00203",
         "orientation": "v",
         "showlegend": true,
         "type": "histogram",
         "x": [
          "_tigfCJFLZg_00203"
         ],
         "xaxis": "x",
         "y": [
          29.61808510638298
         ],
         "yaxis": "y"
        },
        {
         "alignmentgroup": "True",
         "bingroup": "x",
         "histfunc": "sum",
         "hovertemplate": "name=%{x}<br>sum of diff_pc=%{y}<extra></extra>",
         "legendgroup": "_tigfCJFLZg_00246",
         "marker": {
          "color": "#B6E880",
          "pattern": {
           "shape": ""
          }
         },
         "name": "_tigfCJFLZg_00246",
         "offsetgroup": "_tigfCJFLZg_00246",
         "orientation": "v",
         "showlegend": true,
         "type": "histogram",
         "x": [
          "_tigfCJFLZg_00246"
         ],
         "xaxis": "x",
         "y": [
          30.106153846153845
         ],
         "yaxis": "y"
        },
        {
         "alignmentgroup": "True",
         "bingroup": "x",
         "histfunc": "sum",
         "hovertemplate": "name=%{x}<br>sum of diff_pc=%{y}<extra></extra>",
         "legendgroup": "_tigfCJFLZg_00206",
         "marker": {
          "color": "#FF97FF",
          "pattern": {
           "shape": ""
          }
         },
         "name": "_tigfCJFLZg_00206",
         "offsetgroup": "_tigfCJFLZg_00206",
         "orientation": "v",
         "showlegend": true,
         "type": "histogram",
         "x": [
          "_tigfCJFLZg_00206"
         ],
         "xaxis": "x",
         "y": [
          37.14811594202898
         ],
         "yaxis": "y"
        },
        {
         "alignmentgroup": "True",
         "bingroup": "x",
         "histfunc": "sum",
         "hovertemplate": "name=%{x}<br>sum of diff_pc=%{y}<extra></extra>",
         "legendgroup": "_tigfCJFLZg_00258",
         "marker": {
          "color": "#FECB52",
          "pattern": {
           "shape": ""
          }
         },
         "name": "_tigfCJFLZg_00258",
         "offsetgroup": "_tigfCJFLZg_00258",
         "orientation": "v",
         "showlegend": true,
         "type": "histogram",
         "x": [
          "_tigfCJFLZg_00258"
         ],
         "xaxis": "x",
         "y": [
          37.98727272727273
         ],
         "yaxis": "y"
        },
        {
         "alignmentgroup": "True",
         "bingroup": "x",
         "histfunc": "sum",
         "hovertemplate": "name=%{x}<br>sum of diff_pc=%{y}<extra></extra>",
         "legendgroup": "_tigfCJFLZg_00320",
         "marker": {
          "color": "#636efa",
          "pattern": {
           "shape": ""
          }
         },
         "name": "_tigfCJFLZg_00320",
         "offsetgroup": "_tigfCJFLZg_00320",
         "orientation": "v",
         "showlegend": true,
         "type": "histogram",
         "x": [
          "_tigfCJFLZg_00320"
         ],
         "xaxis": "x",
         "y": [
          38.304545454545455
         ],
         "yaxis": "y"
        },
        {
         "alignmentgroup": "True",
         "bingroup": "x",
         "histfunc": "sum",
         "hovertemplate": "name=%{x}<br>sum of diff_pc=%{y}<extra></extra>",
         "legendgroup": "_tigfCJFLZg_00311",
         "marker": {
          "color": "#EF553B",
          "pattern": {
           "shape": ""
          }
         },
         "name": "_tigfCJFLZg_00311",
         "offsetgroup": "_tigfCJFLZg_00311",
         "orientation": "v",
         "showlegend": true,
         "type": "histogram",
         "x": [
          "_tigfCJFLZg_00311"
         ],
         "xaxis": "x",
         "y": [
          39.21827586206897
         ],
         "yaxis": "y"
        },
        {
         "alignmentgroup": "True",
         "bingroup": "x",
         "histfunc": "sum",
         "hovertemplate": "name=%{x}<br>sum of diff_pc=%{y}<extra></extra>",
         "legendgroup": "_tigfCJFLZg_00167",
         "marker": {
          "color": "#00cc96",
          "pattern": {
           "shape": ""
          }
         },
         "name": "_tigfCJFLZg_00167",
         "offsetgroup": "_tigfCJFLZg_00167",
         "orientation": "v",
         "showlegend": true,
         "type": "histogram",
         "x": [
          "_tigfCJFLZg_00167"
         ],
         "xaxis": "x",
         "y": [
          42.31434782608695
         ],
         "yaxis": "y"
        },
        {
         "alignmentgroup": "True",
         "bingroup": "x",
         "histfunc": "sum",
         "hovertemplate": "name=%{x}<br>sum of diff_pc=%{y}<extra></extra>",
         "legendgroup": "_tigfCJFLZg_00353",
         "marker": {
          "color": "#ab63fa",
          "pattern": {
           "shape": ""
          }
         },
         "name": "_tigfCJFLZg_00353",
         "offsetgroup": "_tigfCJFLZg_00353",
         "orientation": "v",
         "showlegend": true,
         "type": "histogram",
         "x": [
          "_tigfCJFLZg_00353"
         ],
         "xaxis": "x",
         "y": [
          45.16193548387097
         ],
         "yaxis": "y"
        },
        {
         "alignmentgroup": "True",
         "bingroup": "x",
         "histfunc": "sum",
         "hovertemplate": "name=%{x}<br>sum of diff_pc=%{y}<extra></extra>",
         "legendgroup": "_tigfCJFLZg_00286",
         "marker": {
          "color": "#FFA15A",
          "pattern": {
           "shape": ""
          }
         },
         "name": "_tigfCJFLZg_00286",
         "offsetgroup": "_tigfCJFLZg_00286",
         "orientation": "v",
         "showlegend": true,
         "type": "histogram",
         "x": [
          "_tigfCJFLZg_00286"
         ],
         "xaxis": "x",
         "y": [
          45.30891891891893
         ],
         "yaxis": "y"
        },
        {
         "alignmentgroup": "True",
         "bingroup": "x",
         "histfunc": "sum",
         "hovertemplate": "name=%{x}<br>sum of diff_pc=%{y}<extra></extra>",
         "legendgroup": "_tigfCJFLZg_00317",
         "marker": {
          "color": "#19d3f3",
          "pattern": {
           "shape": ""
          }
         },
         "name": "_tigfCJFLZg_00317",
         "offsetgroup": "_tigfCJFLZg_00317",
         "orientation": "v",
         "showlegend": true,
         "type": "histogram",
         "x": [
          "_tigfCJFLZg_00317"
         ],
         "xaxis": "x",
         "y": [
          48.17666666666667
         ],
         "yaxis": "y"
        },
        {
         "alignmentgroup": "True",
         "bingroup": "x",
         "histfunc": "sum",
         "hovertemplate": "name=%{x}<br>sum of diff_pc=%{y}<extra></extra>",
         "legendgroup": "_tigfCJFLZg_00295",
         "marker": {
          "color": "#FF6692",
          "pattern": {
           "shape": ""
          }
         },
         "name": "_tigfCJFLZg_00295",
         "offsetgroup": "_tigfCJFLZg_00295",
         "orientation": "v",
         "showlegend": true,
         "type": "histogram",
         "x": [
          "_tigfCJFLZg_00295"
         ],
         "xaxis": "x",
         "y": [
          48.44375
         ],
         "yaxis": "y"
        },
        {
         "alignmentgroup": "True",
         "bingroup": "x",
         "histfunc": "sum",
         "hovertemplate": "name=%{x}<br>sum of diff_pc=%{y}<extra></extra>",
         "legendgroup": "_tigfCJFLZg_00060",
         "marker": {
          "color": "#B6E880",
          "pattern": {
           "shape": ""
          }
         },
         "name": "_tigfCJFLZg_00060",
         "offsetgroup": "_tigfCJFLZg_00060",
         "orientation": "v",
         "showlegend": true,
         "type": "histogram",
         "x": [
          "_tigfCJFLZg_00060"
         ],
         "xaxis": "x",
         "y": [
          50.98272727272727
         ],
         "yaxis": "y"
        },
        {
         "alignmentgroup": "True",
         "bingroup": "x",
         "histfunc": "sum",
         "hovertemplate": "name=%{x}<br>sum of diff_pc=%{y}<extra></extra>",
         "legendgroup": "_tigfCJFLZg_00354",
         "marker": {
          "color": "#FF97FF",
          "pattern": {
           "shape": ""
          }
         },
         "name": "_tigfCJFLZg_00354",
         "offsetgroup": "_tigfCJFLZg_00354",
         "orientation": "v",
         "showlegend": true,
         "type": "histogram",
         "x": [
          "_tigfCJFLZg_00354"
         ],
         "xaxis": "x",
         "y": [
          52.93249999999999
         ],
         "yaxis": "y"
        },
        {
         "alignmentgroup": "True",
         "bingroup": "x",
         "histfunc": "sum",
         "hovertemplate": "name=%{x}<br>sum of diff_pc=%{y}<extra></extra>",
         "legendgroup": "_tigfCJFLZg_00217",
         "marker": {
          "color": "#FECB52",
          "pattern": {
           "shape": ""
          }
         },
         "name": "_tigfCJFLZg_00217",
         "offsetgroup": "_tigfCJFLZg_00217",
         "orientation": "v",
         "showlegend": true,
         "type": "histogram",
         "x": [
          "_tigfCJFLZg_00217"
         ],
         "xaxis": "x",
         "y": [
          54.08568181818182
         ],
         "yaxis": "y"
        },
        {
         "alignmentgroup": "True",
         "bingroup": "x",
         "histfunc": "sum",
         "hovertemplate": "name=%{x}<br>sum of diff_pc=%{y}<extra></extra>",
         "legendgroup": "_tigfCJFLZg_00390",
         "marker": {
          "color": "#636efa",
          "pattern": {
           "shape": ""
          }
         },
         "name": "_tigfCJFLZg_00390",
         "offsetgroup": "_tigfCJFLZg_00390",
         "orientation": "v",
         "showlegend": true,
         "type": "histogram",
         "x": [
          "_tigfCJFLZg_00390"
         ],
         "xaxis": "x",
         "y": [
          55.32525
         ],
         "yaxis": "y"
        },
        {
         "alignmentgroup": "True",
         "bingroup": "x",
         "histfunc": "sum",
         "hovertemplate": "name=%{x}<br>sum of diff_pc=%{y}<extra></extra>",
         "legendgroup": "_tigfCJFLZg_00285",
         "marker": {
          "color": "#EF553B",
          "pattern": {
           "shape": ""
          }
         },
         "name": "_tigfCJFLZg_00285",
         "offsetgroup": "_tigfCJFLZg_00285",
         "orientation": "v",
         "showlegend": true,
         "type": "histogram",
         "x": [
          "_tigfCJFLZg_00285"
         ],
         "xaxis": "x",
         "y": [
          57.1605
         ],
         "yaxis": "y"
        },
        {
         "alignmentgroup": "True",
         "bingroup": "x",
         "histfunc": "sum",
         "hovertemplate": "name=%{x}<br>sum of diff_pc=%{y}<extra></extra>",
         "legendgroup": "_tigfCJFLZg_00209",
         "marker": {
          "color": "#00cc96",
          "pattern": {
           "shape": ""
          }
         },
         "name": "_tigfCJFLZg_00209",
         "offsetgroup": "_tigfCJFLZg_00209",
         "orientation": "v",
         "showlegend": true,
         "type": "histogram",
         "x": [
          "_tigfCJFLZg_00209"
         ],
         "xaxis": "x",
         "y": [
          57.352439024390236
         ],
         "yaxis": "y"
        },
        {
         "alignmentgroup": "True",
         "bingroup": "x",
         "histfunc": "sum",
         "hovertemplate": "name=%{x}<br>sum of diff_pc=%{y}<extra></extra>",
         "legendgroup": "_tigfCJFLZg_00351",
         "marker": {
          "color": "#ab63fa",
          "pattern": {
           "shape": ""
          }
         },
         "name": "_tigfCJFLZg_00351",
         "offsetgroup": "_tigfCJFLZg_00351",
         "orientation": "v",
         "showlegend": true,
         "type": "histogram",
         "x": [
          "_tigfCJFLZg_00351"
         ],
         "xaxis": "x",
         "y": [
          58.870370370370374
         ],
         "yaxis": "y"
        },
        {
         "alignmentgroup": "True",
         "bingroup": "x",
         "histfunc": "sum",
         "hovertemplate": "name=%{x}<br>sum of diff_pc=%{y}<extra></extra>",
         "legendgroup": "_tigfCJFLZg_00393",
         "marker": {
          "color": "#FFA15A",
          "pattern": {
           "shape": ""
          }
         },
         "name": "_tigfCJFLZg_00393",
         "offsetgroup": "_tigfCJFLZg_00393",
         "orientation": "v",
         "showlegend": true,
         "type": "histogram",
         "x": [
          "_tigfCJFLZg_00393"
         ],
         "xaxis": "x",
         "y": [
          59.30974999999999
         ],
         "yaxis": "y"
        },
        {
         "alignmentgroup": "True",
         "bingroup": "x",
         "histfunc": "sum",
         "hovertemplate": "name=%{x}<br>sum of diff_pc=%{y}<extra></extra>",
         "legendgroup": "_tigfCJFLZg_00243",
         "marker": {
          "color": "#19d3f3",
          "pattern": {
           "shape": ""
          }
         },
         "name": "_tigfCJFLZg_00243",
         "offsetgroup": "_tigfCJFLZg_00243",
         "orientation": "v",
         "showlegend": true,
         "type": "histogram",
         "x": [
          "_tigfCJFLZg_00243"
         ],
         "xaxis": "x",
         "y": [
          63.23857142857144
         ],
         "yaxis": "y"
        },
        {
         "alignmentgroup": "True",
         "bingroup": "x",
         "histfunc": "sum",
         "hovertemplate": "name=%{x}<br>sum of diff_pc=%{y}<extra></extra>",
         "legendgroup": "_tigfCJFLZg_00154",
         "marker": {
          "color": "#FF6692",
          "pattern": {
           "shape": ""
          }
         },
         "name": "_tigfCJFLZg_00154",
         "offsetgroup": "_tigfCJFLZg_00154",
         "orientation": "v",
         "showlegend": true,
         "type": "histogram",
         "x": [
          "_tigfCJFLZg_00154"
         ],
         "xaxis": "x",
         "y": [
          64.49521739130437
         ],
         "yaxis": "y"
        },
        {
         "alignmentgroup": "True",
         "bingroup": "x",
         "histfunc": "sum",
         "hovertemplate": "name=%{x}<br>sum of diff_pc=%{y}<extra></extra>",
         "legendgroup": "_tigfCJFLZg_00261",
         "marker": {
          "color": "#B6E880",
          "pattern": {
           "shape": ""
          }
         },
         "name": "_tigfCJFLZg_00261",
         "offsetgroup": "_tigfCJFLZg_00261",
         "orientation": "v",
         "showlegend": true,
         "type": "histogram",
         "x": [
          "_tigfCJFLZg_00261"
         ],
         "xaxis": "x",
         "y": [
          64.75392857142856
         ],
         "yaxis": "y"
        },
        {
         "alignmentgroup": "True",
         "bingroup": "x",
         "histfunc": "sum",
         "hovertemplate": "name=%{x}<br>sum of diff_pc=%{y}<extra></extra>",
         "legendgroup": "_tigfCJFLZg_00151",
         "marker": {
          "color": "#FF97FF",
          "pattern": {
           "shape": ""
          }
         },
         "name": "_tigfCJFLZg_00151",
         "offsetgroup": "_tigfCJFLZg_00151",
         "orientation": "v",
         "showlegend": true,
         "type": "histogram",
         "x": [
          "_tigfCJFLZg_00151"
         ],
         "xaxis": "x",
         "y": [
          65.76958333333333
         ],
         "yaxis": "y"
        },
        {
         "alignmentgroup": "True",
         "bingroup": "x",
         "histfunc": "sum",
         "hovertemplate": "name=%{x}<br>sum of diff_pc=%{y}<extra></extra>",
         "legendgroup": "_tigfCJFLZg_00366",
         "marker": {
          "color": "#FECB52",
          "pattern": {
           "shape": ""
          }
         },
         "name": "_tigfCJFLZg_00366",
         "offsetgroup": "_tigfCJFLZg_00366",
         "orientation": "v",
         "showlegend": true,
         "type": "histogram",
         "x": [
          "_tigfCJFLZg_00366"
         ],
         "xaxis": "x",
         "y": [
          69.0823076923077
         ],
         "yaxis": "y"
        },
        {
         "alignmentgroup": "True",
         "bingroup": "x",
         "histfunc": "sum",
         "hovertemplate": "name=%{x}<br>sum of diff_pc=%{y}<extra></extra>",
         "legendgroup": "_tigfCJFLZg_00146",
         "marker": {
          "color": "#636efa",
          "pattern": {
           "shape": ""
          }
         },
         "name": "_tigfCJFLZg_00146",
         "offsetgroup": "_tigfCJFLZg_00146",
         "orientation": "v",
         "showlegend": true,
         "type": "histogram",
         "x": [
          "_tigfCJFLZg_00146"
         ],
         "xaxis": "x",
         "y": [
          71.634
         ],
         "yaxis": "y"
        },
        {
         "alignmentgroup": "True",
         "bingroup": "x",
         "histfunc": "sum",
         "hovertemplate": "name=%{x}<br>sum of diff_pc=%{y}<extra></extra>",
         "legendgroup": "_tigfCJFLZg_00348",
         "marker": {
          "color": "#EF553B",
          "pattern": {
           "shape": ""
          }
         },
         "name": "_tigfCJFLZg_00348",
         "offsetgroup": "_tigfCJFLZg_00348",
         "orientation": "v",
         "showlegend": true,
         "type": "histogram",
         "x": [
          "_tigfCJFLZg_00348"
         ],
         "xaxis": "x",
         "y": [
          72.47595238095239
         ],
         "yaxis": "y"
        },
        {
         "alignmentgroup": "True",
         "bingroup": "x",
         "histfunc": "sum",
         "hovertemplate": "name=%{x}<br>sum of diff_pc=%{y}<extra></extra>",
         "legendgroup": "_tigfCJFLZg_00304",
         "marker": {
          "color": "#00cc96",
          "pattern": {
           "shape": ""
          }
         },
         "name": "_tigfCJFLZg_00304",
         "offsetgroup": "_tigfCJFLZg_00304",
         "orientation": "v",
         "showlegend": true,
         "type": "histogram",
         "x": [
          "_tigfCJFLZg_00304"
         ],
         "xaxis": "x",
         "y": [
          72.84649999999999
         ],
         "yaxis": "y"
        },
        {
         "alignmentgroup": "True",
         "bingroup": "x",
         "histfunc": "sum",
         "hovertemplate": "name=%{x}<br>sum of diff_pc=%{y}<extra></extra>",
         "legendgroup": "_tigfCJFLZg_00187",
         "marker": {
          "color": "#ab63fa",
          "pattern": {
           "shape": ""
          }
         },
         "name": "_tigfCJFLZg_00187",
         "offsetgroup": "_tigfCJFLZg_00187",
         "orientation": "v",
         "showlegend": true,
         "type": "histogram",
         "x": [
          "_tigfCJFLZg_00187"
         ],
         "xaxis": "x",
         "y": [
          73.38636363636364
         ],
         "yaxis": "y"
        },
        {
         "alignmentgroup": "True",
         "bingroup": "x",
         "histfunc": "sum",
         "hovertemplate": "name=%{x}<br>sum of diff_pc=%{y}<extra></extra>",
         "legendgroup": "_tigfCJFLZg_00329",
         "marker": {
          "color": "#FFA15A",
          "pattern": {
           "shape": ""
          }
         },
         "name": "_tigfCJFLZg_00329",
         "offsetgroup": "_tigfCJFLZg_00329",
         "orientation": "v",
         "showlegend": true,
         "type": "histogram",
         "x": [
          "_tigfCJFLZg_00329"
         ],
         "xaxis": "x",
         "y": [
          73.80611111111111
         ],
         "yaxis": "y"
        },
        {
         "alignmentgroup": "True",
         "bingroup": "x",
         "histfunc": "sum",
         "hovertemplate": "name=%{x}<br>sum of diff_pc=%{y}<extra></extra>",
         "legendgroup": "_tigfCJFLZg_00357",
         "marker": {
          "color": "#19d3f3",
          "pattern": {
           "shape": ""
          }
         },
         "name": "_tigfCJFLZg_00357",
         "offsetgroup": "_tigfCJFLZg_00357",
         "orientation": "v",
         "showlegend": true,
         "type": "histogram",
         "x": [
          "_tigfCJFLZg_00357"
         ],
         "xaxis": "x",
         "y": [
          76.79906249999999
         ],
         "yaxis": "y"
        },
        {
         "alignmentgroup": "True",
         "bingroup": "x",
         "histfunc": "sum",
         "hovertemplate": "name=%{x}<br>sum of diff_pc=%{y}<extra></extra>",
         "legendgroup": "_tigfCJFLZg_00340",
         "marker": {
          "color": "#FF6692",
          "pattern": {
           "shape": ""
          }
         },
         "name": "_tigfCJFLZg_00340",
         "offsetgroup": "_tigfCJFLZg_00340",
         "orientation": "v",
         "showlegend": true,
         "type": "histogram",
         "x": [
          "_tigfCJFLZg_00340"
         ],
         "xaxis": "x",
         "y": [
          78.96318181818181
         ],
         "yaxis": "y"
        },
        {
         "alignmentgroup": "True",
         "bingroup": "x",
         "histfunc": "sum",
         "hovertemplate": "name=%{x}<br>sum of diff_pc=%{y}<extra></extra>",
         "legendgroup": "_tigfCJFLZg_00276",
         "marker": {
          "color": "#B6E880",
          "pattern": {
           "shape": ""
          }
         },
         "name": "_tigfCJFLZg_00276",
         "offsetgroup": "_tigfCJFLZg_00276",
         "orientation": "v",
         "showlegend": true,
         "type": "histogram",
         "x": [
          "_tigfCJFLZg_00276"
         ],
         "xaxis": "x",
         "y": [
          82.12034482758618
         ],
         "yaxis": "y"
        },
        {
         "alignmentgroup": "True",
         "bingroup": "x",
         "histfunc": "sum",
         "hovertemplate": "name=%{x}<br>sum of diff_pc=%{y}<extra></extra>",
         "legendgroup": "_tigfCJFLZg_00298",
         "marker": {
          "color": "#FF97FF",
          "pattern": {
           "shape": ""
          }
         },
         "name": "_tigfCJFLZg_00298",
         "offsetgroup": "_tigfCJFLZg_00298",
         "orientation": "v",
         "showlegend": true,
         "type": "histogram",
         "x": [
          "_tigfCJFLZg_00298"
         ],
         "xaxis": "x",
         "y": [
          82.36565217391303
         ],
         "yaxis": "y"
        },
        {
         "alignmentgroup": "True",
         "bingroup": "x",
         "histfunc": "sum",
         "hovertemplate": "name=%{x}<br>sum of diff_pc=%{y}<extra></extra>",
         "legendgroup": "_tigfCJFLZg_00308",
         "marker": {
          "color": "#FECB52",
          "pattern": {
           "shape": ""
          }
         },
         "name": "_tigfCJFLZg_00308",
         "offsetgroup": "_tigfCJFLZg_00308",
         "orientation": "v",
         "showlegend": true,
         "type": "histogram",
         "x": [
          "_tigfCJFLZg_00308"
         ],
         "xaxis": "x",
         "y": [
          85.40216216216217
         ],
         "yaxis": "y"
        },
        {
         "alignmentgroup": "True",
         "bingroup": "x",
         "histfunc": "sum",
         "hovertemplate": "name=%{x}<br>sum of diff_pc=%{y}<extra></extra>",
         "legendgroup": "_tigfCJFLZg_00237",
         "marker": {
          "color": "#636efa",
          "pattern": {
           "shape": ""
          }
         },
         "name": "_tigfCJFLZg_00237",
         "offsetgroup": "_tigfCJFLZg_00237",
         "orientation": "v",
         "showlegend": true,
         "type": "histogram",
         "x": [
          "_tigfCJFLZg_00237"
         ],
         "xaxis": "x",
         "y": [
          88.23086956521739
         ],
         "yaxis": "y"
        }
       ],
       "layout": {
        "barmode": "relative",
        "legend": {
         "title": {
          "text": "name"
         },
         "tracegroupgap": 0
        },
        "template": {
         "data": {
          "bar": [
           {
            "error_x": {
             "color": "#2a3f5f"
            },
            "error_y": {
             "color": "#2a3f5f"
            },
            "marker": {
             "line": {
              "color": "#E5ECF6",
              "width": 0.5
             },
             "pattern": {
              "fillmode": "overlay",
              "size": 10,
              "solidity": 0.2
             }
            },
            "type": "bar"
           }
          ],
          "barpolar": [
           {
            "marker": {
             "line": {
              "color": "#E5ECF6",
              "width": 0.5
             },
             "pattern": {
              "fillmode": "overlay",
              "size": 10,
              "solidity": 0.2
             }
            },
            "type": "barpolar"
           }
          ],
          "carpet": [
           {
            "aaxis": {
             "endlinecolor": "#2a3f5f",
             "gridcolor": "white",
             "linecolor": "white",
             "minorgridcolor": "white",
             "startlinecolor": "#2a3f5f"
            },
            "baxis": {
             "endlinecolor": "#2a3f5f",
             "gridcolor": "white",
             "linecolor": "white",
             "minorgridcolor": "white",
             "startlinecolor": "#2a3f5f"
            },
            "type": "carpet"
           }
          ],
          "choropleth": [
           {
            "colorbar": {
             "outlinewidth": 0,
             "ticks": ""
            },
            "type": "choropleth"
           }
          ],
          "contour": [
           {
            "colorbar": {
             "outlinewidth": 0,
             "ticks": ""
            },
            "colorscale": [
             [
              0,
              "#0d0887"
             ],
             [
              0.1111111111111111,
              "#46039f"
             ],
             [
              0.2222222222222222,
              "#7201a8"
             ],
             [
              0.3333333333333333,
              "#9c179e"
             ],
             [
              0.4444444444444444,
              "#bd3786"
             ],
             [
              0.5555555555555556,
              "#d8576b"
             ],
             [
              0.6666666666666666,
              "#ed7953"
             ],
             [
              0.7777777777777778,
              "#fb9f3a"
             ],
             [
              0.8888888888888888,
              "#fdca26"
             ],
             [
              1,
              "#f0f921"
             ]
            ],
            "type": "contour"
           }
          ],
          "contourcarpet": [
           {
            "colorbar": {
             "outlinewidth": 0,
             "ticks": ""
            },
            "type": "contourcarpet"
           }
          ],
          "heatmap": [
           {
            "colorbar": {
             "outlinewidth": 0,
             "ticks": ""
            },
            "colorscale": [
             [
              0,
              "#0d0887"
             ],
             [
              0.1111111111111111,
              "#46039f"
             ],
             [
              0.2222222222222222,
              "#7201a8"
             ],
             [
              0.3333333333333333,
              "#9c179e"
             ],
             [
              0.4444444444444444,
              "#bd3786"
             ],
             [
              0.5555555555555556,
              "#d8576b"
             ],
             [
              0.6666666666666666,
              "#ed7953"
             ],
             [
              0.7777777777777778,
              "#fb9f3a"
             ],
             [
              0.8888888888888888,
              "#fdca26"
             ],
             [
              1,
              "#f0f921"
             ]
            ],
            "type": "heatmap"
           }
          ],
          "heatmapgl": [
           {
            "colorbar": {
             "outlinewidth": 0,
             "ticks": ""
            },
            "colorscale": [
             [
              0,
              "#0d0887"
             ],
             [
              0.1111111111111111,
              "#46039f"
             ],
             [
              0.2222222222222222,
              "#7201a8"
             ],
             [
              0.3333333333333333,
              "#9c179e"
             ],
             [
              0.4444444444444444,
              "#bd3786"
             ],
             [
              0.5555555555555556,
              "#d8576b"
             ],
             [
              0.6666666666666666,
              "#ed7953"
             ],
             [
              0.7777777777777778,
              "#fb9f3a"
             ],
             [
              0.8888888888888888,
              "#fdca26"
             ],
             [
              1,
              "#f0f921"
             ]
            ],
            "type": "heatmapgl"
           }
          ],
          "histogram": [
           {
            "marker": {
             "pattern": {
              "fillmode": "overlay",
              "size": 10,
              "solidity": 0.2
             }
            },
            "type": "histogram"
           }
          ],
          "histogram2d": [
           {
            "colorbar": {
             "outlinewidth": 0,
             "ticks": ""
            },
            "colorscale": [
             [
              0,
              "#0d0887"
             ],
             [
              0.1111111111111111,
              "#46039f"
             ],
             [
              0.2222222222222222,
              "#7201a8"
             ],
             [
              0.3333333333333333,
              "#9c179e"
             ],
             [
              0.4444444444444444,
              "#bd3786"
             ],
             [
              0.5555555555555556,
              "#d8576b"
             ],
             [
              0.6666666666666666,
              "#ed7953"
             ],
             [
              0.7777777777777778,
              "#fb9f3a"
             ],
             [
              0.8888888888888888,
              "#fdca26"
             ],
             [
              1,
              "#f0f921"
             ]
            ],
            "type": "histogram2d"
           }
          ],
          "histogram2dcontour": [
           {
            "colorbar": {
             "outlinewidth": 0,
             "ticks": ""
            },
            "colorscale": [
             [
              0,
              "#0d0887"
             ],
             [
              0.1111111111111111,
              "#46039f"
             ],
             [
              0.2222222222222222,
              "#7201a8"
             ],
             [
              0.3333333333333333,
              "#9c179e"
             ],
             [
              0.4444444444444444,
              "#bd3786"
             ],
             [
              0.5555555555555556,
              "#d8576b"
             ],
             [
              0.6666666666666666,
              "#ed7953"
             ],
             [
              0.7777777777777778,
              "#fb9f3a"
             ],
             [
              0.8888888888888888,
              "#fdca26"
             ],
             [
              1,
              "#f0f921"
             ]
            ],
            "type": "histogram2dcontour"
           }
          ],
          "mesh3d": [
           {
            "colorbar": {
             "outlinewidth": 0,
             "ticks": ""
            },
            "type": "mesh3d"
           }
          ],
          "parcoords": [
           {
            "line": {
             "colorbar": {
              "outlinewidth": 0,
              "ticks": ""
             }
            },
            "type": "parcoords"
           }
          ],
          "pie": [
           {
            "automargin": true,
            "type": "pie"
           }
          ],
          "scatter": [
           {
            "marker": {
             "colorbar": {
              "outlinewidth": 0,
              "ticks": ""
             }
            },
            "type": "scatter"
           }
          ],
          "scatter3d": [
           {
            "line": {
             "colorbar": {
              "outlinewidth": 0,
              "ticks": ""
             }
            },
            "marker": {
             "colorbar": {
              "outlinewidth": 0,
              "ticks": ""
             }
            },
            "type": "scatter3d"
           }
          ],
          "scattercarpet": [
           {
            "marker": {
             "colorbar": {
              "outlinewidth": 0,
              "ticks": ""
             }
            },
            "type": "scattercarpet"
           }
          ],
          "scattergeo": [
           {
            "marker": {
             "colorbar": {
              "outlinewidth": 0,
              "ticks": ""
             }
            },
            "type": "scattergeo"
           }
          ],
          "scattergl": [
           {
            "marker": {
             "colorbar": {
              "outlinewidth": 0,
              "ticks": ""
             }
            },
            "type": "scattergl"
           }
          ],
          "scattermapbox": [
           {
            "marker": {
             "colorbar": {
              "outlinewidth": 0,
              "ticks": ""
             }
            },
            "type": "scattermapbox"
           }
          ],
          "scatterpolar": [
           {
            "marker": {
             "colorbar": {
              "outlinewidth": 0,
              "ticks": ""
             }
            },
            "type": "scatterpolar"
           }
          ],
          "scatterpolargl": [
           {
            "marker": {
             "colorbar": {
              "outlinewidth": 0,
              "ticks": ""
             }
            },
            "type": "scatterpolargl"
           }
          ],
          "scatterternary": [
           {
            "marker": {
             "colorbar": {
              "outlinewidth": 0,
              "ticks": ""
             }
            },
            "type": "scatterternary"
           }
          ],
          "surface": [
           {
            "colorbar": {
             "outlinewidth": 0,
             "ticks": ""
            },
            "colorscale": [
             [
              0,
              "#0d0887"
             ],
             [
              0.1111111111111111,
              "#46039f"
             ],
             [
              0.2222222222222222,
              "#7201a8"
             ],
             [
              0.3333333333333333,
              "#9c179e"
             ],
             [
              0.4444444444444444,
              "#bd3786"
             ],
             [
              0.5555555555555556,
              "#d8576b"
             ],
             [
              0.6666666666666666,
              "#ed7953"
             ],
             [
              0.7777777777777778,
              "#fb9f3a"
             ],
             [
              0.8888888888888888,
              "#fdca26"
             ],
             [
              1,
              "#f0f921"
             ]
            ],
            "type": "surface"
           }
          ],
          "table": [
           {
            "cells": {
             "fill": {
              "color": "#EBF0F8"
             },
             "line": {
              "color": "white"
             }
            },
            "header": {
             "fill": {
              "color": "#C8D4E3"
             },
             "line": {
              "color": "white"
             }
            },
            "type": "table"
           }
          ]
         },
         "layout": {
          "annotationdefaults": {
           "arrowcolor": "#2a3f5f",
           "arrowhead": 0,
           "arrowwidth": 1
          },
          "autotypenumbers": "strict",
          "coloraxis": {
           "colorbar": {
            "outlinewidth": 0,
            "ticks": ""
           }
          },
          "colorscale": {
           "diverging": [
            [
             0,
             "#8e0152"
            ],
            [
             0.1,
             "#c51b7d"
            ],
            [
             0.2,
             "#de77ae"
            ],
            [
             0.3,
             "#f1b6da"
            ],
            [
             0.4,
             "#fde0ef"
            ],
            [
             0.5,
             "#f7f7f7"
            ],
            [
             0.6,
             "#e6f5d0"
            ],
            [
             0.7,
             "#b8e186"
            ],
            [
             0.8,
             "#7fbc41"
            ],
            [
             0.9,
             "#4d9221"
            ],
            [
             1,
             "#276419"
            ]
           ],
           "sequential": [
            [
             0,
             "#0d0887"
            ],
            [
             0.1111111111111111,
             "#46039f"
            ],
            [
             0.2222222222222222,
             "#7201a8"
            ],
            [
             0.3333333333333333,
             "#9c179e"
            ],
            [
             0.4444444444444444,
             "#bd3786"
            ],
            [
             0.5555555555555556,
             "#d8576b"
            ],
            [
             0.6666666666666666,
             "#ed7953"
            ],
            [
             0.7777777777777778,
             "#fb9f3a"
            ],
            [
             0.8888888888888888,
             "#fdca26"
            ],
            [
             1,
             "#f0f921"
            ]
           ],
           "sequentialminus": [
            [
             0,
             "#0d0887"
            ],
            [
             0.1111111111111111,
             "#46039f"
            ],
            [
             0.2222222222222222,
             "#7201a8"
            ],
            [
             0.3333333333333333,
             "#9c179e"
            ],
            [
             0.4444444444444444,
             "#bd3786"
            ],
            [
             0.5555555555555556,
             "#d8576b"
            ],
            [
             0.6666666666666666,
             "#ed7953"
            ],
            [
             0.7777777777777778,
             "#fb9f3a"
            ],
            [
             0.8888888888888888,
             "#fdca26"
            ],
            [
             1,
             "#f0f921"
            ]
           ]
          },
          "colorway": [
           "#636efa",
           "#EF553B",
           "#00cc96",
           "#ab63fa",
           "#FFA15A",
           "#19d3f3",
           "#FF6692",
           "#B6E880",
           "#FF97FF",
           "#FECB52"
          ],
          "font": {
           "color": "#2a3f5f"
          },
          "geo": {
           "bgcolor": "white",
           "lakecolor": "white",
           "landcolor": "#E5ECF6",
           "showlakes": true,
           "showland": true,
           "subunitcolor": "white"
          },
          "hoverlabel": {
           "align": "left"
          },
          "hovermode": "closest",
          "mapbox": {
           "style": "light"
          },
          "paper_bgcolor": "white",
          "plot_bgcolor": "#E5ECF6",
          "polar": {
           "angularaxis": {
            "gridcolor": "white",
            "linecolor": "white",
            "ticks": ""
           },
           "bgcolor": "#E5ECF6",
           "radialaxis": {
            "gridcolor": "white",
            "linecolor": "white",
            "ticks": ""
           }
          },
          "scene": {
           "xaxis": {
            "backgroundcolor": "#E5ECF6",
            "gridcolor": "white",
            "gridwidth": 2,
            "linecolor": "white",
            "showbackground": true,
            "ticks": "",
            "zerolinecolor": "white"
           },
           "yaxis": {
            "backgroundcolor": "#E5ECF6",
            "gridcolor": "white",
            "gridwidth": 2,
            "linecolor": "white",
            "showbackground": true,
            "ticks": "",
            "zerolinecolor": "white"
           },
           "zaxis": {
            "backgroundcolor": "#E5ECF6",
            "gridcolor": "white",
            "gridwidth": 2,
            "linecolor": "white",
            "showbackground": true,
            "ticks": "",
            "zerolinecolor": "white"
           }
          },
          "shapedefaults": {
           "line": {
            "color": "#2a3f5f"
           }
          },
          "ternary": {
           "aaxis": {
            "gridcolor": "white",
            "linecolor": "white",
            "ticks": ""
           },
           "baxis": {
            "gridcolor": "white",
            "linecolor": "white",
            "ticks": ""
           },
           "bgcolor": "#E5ECF6",
           "caxis": {
            "gridcolor": "white",
            "linecolor": "white",
            "ticks": ""
           }
          },
          "title": {
           "x": 0.05
          },
          "xaxis": {
           "automargin": true,
           "gridcolor": "white",
           "linecolor": "white",
           "ticks": "",
           "title": {
            "standoff": 15
           },
           "zerolinecolor": "white",
           "zerolinewidth": 2
          },
          "yaxis": {
           "automargin": true,
           "gridcolor": "white",
           "linecolor": "white",
           "ticks": "",
           "title": {
            "standoff": 15
           },
           "zerolinecolor": "white",
           "zerolinewidth": 2
          }
         }
        },
        "title": {
         "text": "mean pixel diff in % per video"
        },
        "xaxis": {
         "anchor": "y",
         "categoryarray": [
          "_tigfCJFLZg_00160",
          "_tigfCJFLZg_00377",
          "_tigfCJFLZg_00314",
          "_tigfCJFLZg_00380",
          "_tigfCJFLZg_00289",
          "_tigfCJFLZg_00157",
          "_tigfCJFLZg_00203",
          "_tigfCJFLZg_00246",
          "_tigfCJFLZg_00206",
          "_tigfCJFLZg_00258",
          "_tigfCJFLZg_00320",
          "_tigfCJFLZg_00311",
          "_tigfCJFLZg_00167",
          "_tigfCJFLZg_00353",
          "_tigfCJFLZg_00286",
          "_tigfCJFLZg_00317",
          "_tigfCJFLZg_00295",
          "_tigfCJFLZg_00060",
          "_tigfCJFLZg_00354",
          "_tigfCJFLZg_00217",
          "_tigfCJFLZg_00390",
          "_tigfCJFLZg_00285",
          "_tigfCJFLZg_00209",
          "_tigfCJFLZg_00351",
          "_tigfCJFLZg_00393",
          "_tigfCJFLZg_00243",
          "_tigfCJFLZg_00154",
          "_tigfCJFLZg_00261",
          "_tigfCJFLZg_00151",
          "_tigfCJFLZg_00366",
          "_tigfCJFLZg_00146",
          "_tigfCJFLZg_00348",
          "_tigfCJFLZg_00304",
          "_tigfCJFLZg_00187",
          "_tigfCJFLZg_00329",
          "_tigfCJFLZg_00357",
          "_tigfCJFLZg_00340",
          "_tigfCJFLZg_00276",
          "_tigfCJFLZg_00298",
          "_tigfCJFLZg_00308",
          "_tigfCJFLZg_00237"
         ],
         "categoryorder": "array",
         "domain": [
          0,
          1
         ],
         "title": {
          "text": "name"
         }
        },
        "yaxis": {
         "anchor": "x",
         "domain": [
          0,
          1
         ],
         "title": {
          "text": "sum of diff_pc"
         }
        }
       }
      }
     },
     "metadata": {}
    }
   ],
   "source": [
    "# mean pixel diff in % per video\n",
    "mean_diff_pc = frame.groupby(\"name\").mean(\"diff_pc\").copy()\n",
    "mean_diff_pc = mean_diff_pc.sort_values(by=[\"diff_pc\"])\n",
    "fig = px.histogram(mean_diff_pc.reset_index(),x=\"name\",y=\"diff_pc\",color=\"name\",title=\"mean pixel diff in % per video\")\n",
    "fig.show()\n"
   ]
  },
  {
   "source": [
    "-> 100 % wären doppeltso viele \"accuracy = 0.5\"  (0% = accuracy von 1)\n",
    "-> Unsere methode aus 2a ist relativ gut"
   ],
   "cell_type": "markdown",
   "metadata": {}
  },
  {
   "cell_type": "code",
   "execution_count": 66,
   "metadata": {},
   "outputs": [
    {
     "output_type": "execute_result",
     "data": {
      "text/plain": [
       "            vis_px  vis_px_pc      total_px  total_px_pc          diff  \\\n",
       "count    41.000000  41.000000     41.000000    41.000000     41.000000   \n",
       "mean   3232.146746   1.052260   6259.278657     2.037616   3027.131911   \n",
       "std    1698.601677   0.552897   2828.736921     0.920964   2764.451364   \n",
       "min    1037.473684   0.338947   3137.690476     1.021190    602.945946   \n",
       "25%    2156.750000   0.702500   4311.629630     1.403333   1139.214286   \n",
       "50%    2767.769231   0.902308   5252.081081     1.710000   1938.000000   \n",
       "75%    3965.611111   1.291111   7719.434783     2.512609   3129.709677   \n",
       "max    8394.517241   2.732759  16440.607143     5.352143  11824.464286   \n",
       "\n",
       "         diff_pc  \n",
       "count  41.000000  \n",
       "mean   53.144922  \n",
       "std    21.281336  \n",
       "min     8.737895  \n",
       "25%    38.304545  \n",
       "50%    55.325250  \n",
       "75%    71.634000  \n",
       "max    88.230870  "
      ],
      "text/html": "<div>\n<style scoped>\n    .dataframe tbody tr th:only-of-type {\n        vertical-align: middle;\n    }\n\n    .dataframe tbody tr th {\n        vertical-align: top;\n    }\n\n    .dataframe thead th {\n        text-align: right;\n    }\n</style>\n<table border=\"1\" class=\"dataframe\">\n  <thead>\n    <tr style=\"text-align: right;\">\n      <th></th>\n      <th>vis_px</th>\n      <th>vis_px_pc</th>\n      <th>total_px</th>\n      <th>total_px_pc</th>\n      <th>diff</th>\n      <th>diff_pc</th>\n    </tr>\n  </thead>\n  <tbody>\n    <tr>\n      <th>count</th>\n      <td>41.000000</td>\n      <td>41.000000</td>\n      <td>41.000000</td>\n      <td>41.000000</td>\n      <td>41.000000</td>\n      <td>41.000000</td>\n    </tr>\n    <tr>\n      <th>mean</th>\n      <td>3232.146746</td>\n      <td>1.052260</td>\n      <td>6259.278657</td>\n      <td>2.037616</td>\n      <td>3027.131911</td>\n      <td>53.144922</td>\n    </tr>\n    <tr>\n      <th>std</th>\n      <td>1698.601677</td>\n      <td>0.552897</td>\n      <td>2828.736921</td>\n      <td>0.920964</td>\n      <td>2764.451364</td>\n      <td>21.281336</td>\n    </tr>\n    <tr>\n      <th>min</th>\n      <td>1037.473684</td>\n      <td>0.338947</td>\n      <td>3137.690476</td>\n      <td>1.021190</td>\n      <td>602.945946</td>\n      <td>8.737895</td>\n    </tr>\n    <tr>\n      <th>25%</th>\n      <td>2156.750000</td>\n      <td>0.702500</td>\n      <td>4311.629630</td>\n      <td>1.403333</td>\n      <td>1139.214286</td>\n      <td>38.304545</td>\n    </tr>\n    <tr>\n      <th>50%</th>\n      <td>2767.769231</td>\n      <td>0.902308</td>\n      <td>5252.081081</td>\n      <td>1.710000</td>\n      <td>1938.000000</td>\n      <td>55.325250</td>\n    </tr>\n    <tr>\n      <th>75%</th>\n      <td>3965.611111</td>\n      <td>1.291111</td>\n      <td>7719.434783</td>\n      <td>2.512609</td>\n      <td>3129.709677</td>\n      <td>71.634000</td>\n    </tr>\n    <tr>\n      <th>max</th>\n      <td>8394.517241</td>\n      <td>2.732759</td>\n      <td>16440.607143</td>\n      <td>5.352143</td>\n      <td>11824.464286</td>\n      <td>88.230870</td>\n    </tr>\n  </tbody>\n</table>\n</div>"
     },
     "metadata": {},
     "execution_count": 66
    }
   ],
   "source": [
    "mean_diff_pc.describe()"
   ]
  },
  {
   "cell_type": "code",
   "execution_count": 7,
   "metadata": {},
   "outputs": [
    {
     "output_type": "execute_result",
     "data": {
      "text/plain": [
       "             vis_px    vis_px_pc      total_px  total_px_pc          diff  \\\n",
       "count   1196.000000  1196.000000   1196.000000  1196.000000   1196.000000   \n",
       "mean    3175.293478     1.033754   6164.231605     2.006580   2988.938127   \n",
       "std     2507.605536     0.816248   3442.359866     1.120566   2898.985844   \n",
       "min        0.000000     0.000000    450.000000     0.150000     24.000000   \n",
       "25%     1394.000000     0.450000   3706.000000     1.207500   1015.000000   \n",
       "50%     2619.000000     0.850000   5444.000000     1.775000   1874.000000   \n",
       "75%     4257.250000     1.390000   7770.250000     2.532500   3958.000000   \n",
       "max    15099.000000     4.920000  22048.000000     7.180000  17477.000000   \n",
       "\n",
       "           diff_pc  \n",
       "count  1196.000000  \n",
       "mean     52.589055  \n",
       "std      28.360885  \n",
       "min       0.000000  \n",
       "25%      28.685000  \n",
       "50%      53.630000  \n",
       "75%      77.547500  \n",
       "max      99.440000  "
      ],
      "text/html": "<div>\n<style scoped>\n    .dataframe tbody tr th:only-of-type {\n        vertical-align: middle;\n    }\n\n    .dataframe tbody tr th {\n        vertical-align: top;\n    }\n\n    .dataframe thead th {\n        text-align: right;\n    }\n</style>\n<table border=\"1\" class=\"dataframe\">\n  <thead>\n    <tr style=\"text-align: right;\">\n      <th></th>\n      <th>vis_px</th>\n      <th>vis_px_pc</th>\n      <th>total_px</th>\n      <th>total_px_pc</th>\n      <th>diff</th>\n      <th>diff_pc</th>\n    </tr>\n  </thead>\n  <tbody>\n    <tr>\n      <th>count</th>\n      <td>1196.000000</td>\n      <td>1196.000000</td>\n      <td>1196.000000</td>\n      <td>1196.000000</td>\n      <td>1196.000000</td>\n      <td>1196.000000</td>\n    </tr>\n    <tr>\n      <th>mean</th>\n      <td>3175.293478</td>\n      <td>1.033754</td>\n      <td>6164.231605</td>\n      <td>2.006580</td>\n      <td>2988.938127</td>\n      <td>52.589055</td>\n    </tr>\n    <tr>\n      <th>std</th>\n      <td>2507.605536</td>\n      <td>0.816248</td>\n      <td>3442.359866</td>\n      <td>1.120566</td>\n      <td>2898.985844</td>\n      <td>28.360885</td>\n    </tr>\n    <tr>\n      <th>min</th>\n      <td>0.000000</td>\n      <td>0.000000</td>\n      <td>450.000000</td>\n      <td>0.150000</td>\n      <td>24.000000</td>\n      <td>0.000000</td>\n    </tr>\n    <tr>\n      <th>25%</th>\n      <td>1394.000000</td>\n      <td>0.450000</td>\n      <td>3706.000000</td>\n      <td>1.207500</td>\n      <td>1015.000000</td>\n      <td>28.685000</td>\n    </tr>\n    <tr>\n      <th>50%</th>\n      <td>2619.000000</td>\n      <td>0.850000</td>\n      <td>5444.000000</td>\n      <td>1.775000</td>\n      <td>1874.000000</td>\n      <td>53.630000</td>\n    </tr>\n    <tr>\n      <th>75%</th>\n      <td>4257.250000</td>\n      <td>1.390000</td>\n      <td>7770.250000</td>\n      <td>2.532500</td>\n      <td>3958.000000</td>\n      <td>77.547500</td>\n    </tr>\n    <tr>\n      <th>max</th>\n      <td>15099.000000</td>\n      <td>4.920000</td>\n      <td>22048.000000</td>\n      <td>7.180000</td>\n      <td>17477.000000</td>\n      <td>99.440000</td>\n    </tr>\n  </tbody>\n</table>\n</div>"
     },
     "metadata": {},
     "execution_count": 7
    }
   ],
   "source": [
    "frame.describe()"
   ]
  },
  {
   "cell_type": "code",
   "execution_count": 8,
   "metadata": {},
   "outputs": [
    {
     "output_type": "execute_result",
     "data": {
      "text/plain": [
       "                         vis_px  vis_px_pc  total_px  total_px_pc     diff  \\\n",
       "name              frame                                                      \n",
       "_tigfCJFLZg_00060 0        63.0       0.02   10924.0         3.56  10861.0   \n",
       "                  1       718.0       0.23    7569.0         2.46   6851.0   \n",
       "                  2      1337.0       0.44    6020.0         1.96   4683.0   \n",
       "                  3      2695.0       0.88    4888.0         1.59   2193.0   \n",
       "                  4      2951.0       0.96    4309.0         1.40   1358.0   \n",
       "...                         ...        ...       ...          ...      ...   \n",
       "_tigfCJFLZg_00393 35     6143.0       2.00    7094.0         2.31    951.0   \n",
       "                  36     6295.0       2.05    7083.0         2.31    788.0   \n",
       "                  37     6736.0       2.19    7396.0         2.41    660.0   \n",
       "                  38     7267.0       2.37    7921.0         2.58    654.0   \n",
       "                  39     7727.0       2.52    8235.0         2.68    508.0   \n",
       "\n",
       "                         diff_pc  \n",
       "name              frame           \n",
       "_tigfCJFLZg_00060 0         0.58  \n",
       "                  1         9.49  \n",
       "                  2        22.21  \n",
       "                  3        55.14  \n",
       "                  4        68.48  \n",
       "...                          ...  \n",
       "_tigfCJFLZg_00393 35       86.59  \n",
       "                  36       88.87  \n",
       "                  37       91.08  \n",
       "                  38       91.74  \n",
       "                  39       93.83  \n",
       "\n",
       "[1196 rows x 6 columns]"
      ],
      "text/html": "<div>\n<style scoped>\n    .dataframe tbody tr th:only-of-type {\n        vertical-align: middle;\n    }\n\n    .dataframe tbody tr th {\n        vertical-align: top;\n    }\n\n    .dataframe thead th {\n        text-align: right;\n    }\n</style>\n<table border=\"1\" class=\"dataframe\">\n  <thead>\n    <tr style=\"text-align: right;\">\n      <th></th>\n      <th></th>\n      <th>vis_px</th>\n      <th>vis_px_pc</th>\n      <th>total_px</th>\n      <th>total_px_pc</th>\n      <th>diff</th>\n      <th>diff_pc</th>\n    </tr>\n    <tr>\n      <th>name</th>\n      <th>frame</th>\n      <th></th>\n      <th></th>\n      <th></th>\n      <th></th>\n      <th></th>\n      <th></th>\n    </tr>\n  </thead>\n  <tbody>\n    <tr>\n      <th rowspan=\"5\" valign=\"top\">_tigfCJFLZg_00060</th>\n      <th>0</th>\n      <td>63.0</td>\n      <td>0.02</td>\n      <td>10924.0</td>\n      <td>3.56</td>\n      <td>10861.0</td>\n      <td>0.58</td>\n    </tr>\n    <tr>\n      <th>1</th>\n      <td>718.0</td>\n      <td>0.23</td>\n      <td>7569.0</td>\n      <td>2.46</td>\n      <td>6851.0</td>\n      <td>9.49</td>\n    </tr>\n    <tr>\n      <th>2</th>\n      <td>1337.0</td>\n      <td>0.44</td>\n      <td>6020.0</td>\n      <td>1.96</td>\n      <td>4683.0</td>\n      <td>22.21</td>\n    </tr>\n    <tr>\n      <th>3</th>\n      <td>2695.0</td>\n      <td>0.88</td>\n      <td>4888.0</td>\n      <td>1.59</td>\n      <td>2193.0</td>\n      <td>55.14</td>\n    </tr>\n    <tr>\n      <th>4</th>\n      <td>2951.0</td>\n      <td>0.96</td>\n      <td>4309.0</td>\n      <td>1.40</td>\n      <td>1358.0</td>\n      <td>68.48</td>\n    </tr>\n    <tr>\n      <th>...</th>\n      <th>...</th>\n      <td>...</td>\n      <td>...</td>\n      <td>...</td>\n      <td>...</td>\n      <td>...</td>\n      <td>...</td>\n    </tr>\n    <tr>\n      <th rowspan=\"5\" valign=\"top\">_tigfCJFLZg_00393</th>\n      <th>35</th>\n      <td>6143.0</td>\n      <td>2.00</td>\n      <td>7094.0</td>\n      <td>2.31</td>\n      <td>951.0</td>\n      <td>86.59</td>\n    </tr>\n    <tr>\n      <th>36</th>\n      <td>6295.0</td>\n      <td>2.05</td>\n      <td>7083.0</td>\n      <td>2.31</td>\n      <td>788.0</td>\n      <td>88.87</td>\n    </tr>\n    <tr>\n      <th>37</th>\n      <td>6736.0</td>\n      <td>2.19</td>\n      <td>7396.0</td>\n      <td>2.41</td>\n      <td>660.0</td>\n      <td>91.08</td>\n    </tr>\n    <tr>\n      <th>38</th>\n      <td>7267.0</td>\n      <td>2.37</td>\n      <td>7921.0</td>\n      <td>2.58</td>\n      <td>654.0</td>\n      <td>91.74</td>\n    </tr>\n    <tr>\n      <th>39</th>\n      <td>7727.0</td>\n      <td>2.52</td>\n      <td>8235.0</td>\n      <td>2.68</td>\n      <td>508.0</td>\n      <td>93.83</td>\n    </tr>\n  </tbody>\n</table>\n<p>1196 rows × 6 columns</p>\n</div>"
     },
     "metadata": {},
     "execution_count": 8
    }
   ],
   "source": [
    "frame"
   ]
  }
 ]
}